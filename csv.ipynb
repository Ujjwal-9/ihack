{
 "cells": [
  {
   "cell_type": "code",
   "execution_count": 1,
   "metadata": {},
   "outputs": [],
   "source": [
    "import pandas as pd\n",
    "import xml.etree.ElementTree as ET\n",
    "import os\n",
    "from tqdm import tqdm"
   ]
  },
  {
   "cell_type": "code",
   "execution_count": 2,
   "metadata": {},
   "outputs": [],
   "source": [
    "img_path = 'data/images/'\n",
    "anno_path = 'data/annotations/'"
   ]
  },
  {
   "cell_type": "code",
   "execution_count": 3,
   "metadata": {},
   "outputs": [
    {
     "data": {
      "text/html": [
       "<div>\n",
       "<style scoped>\n",
       "    .dataframe tbody tr th:only-of-type {\n",
       "        vertical-align: middle;\n",
       "    }\n",
       "\n",
       "    .dataframe tbody tr th {\n",
       "        vertical-align: top;\n",
       "    }\n",
       "\n",
       "    .dataframe thead th {\n",
       "        text-align: right;\n",
       "    }\n",
       "</style>\n",
       "<table border=\"1\" class=\"dataframe\">\n",
       "  <thead>\n",
       "    <tr style=\"text-align: right;\">\n",
       "      <th></th>\n",
       "      <th>Xml_name</th>\n",
       "      <th>Image_name</th>\n",
       "      <th>Person_only</th>\n",
       "      <th>Truck_only</th>\n",
       "      <th>Both</th>\n",
       "    </tr>\n",
       "  </thead>\n",
       "  <tbody>\n",
       "    <tr>\n",
       "      <th>0</th>\n",
       "      <td>0001062.xml</td>\n",
       "      <td>0001062.jpg</td>\n",
       "      <td>0</td>\n",
       "      <td>1</td>\n",
       "      <td>0</td>\n",
       "    </tr>\n",
       "    <tr>\n",
       "      <th>1</th>\n",
       "      <td>0008873.xml</td>\n",
       "      <td>0008873.jpg</td>\n",
       "      <td>1</td>\n",
       "      <td>0</td>\n",
       "      <td>0</td>\n",
       "    </tr>\n",
       "    <tr>\n",
       "      <th>2</th>\n",
       "      <td>0000358.xml</td>\n",
       "      <td>0000358.jpg</td>\n",
       "      <td>1</td>\n",
       "      <td>1</td>\n",
       "      <td>1</td>\n",
       "    </tr>\n",
       "    <tr>\n",
       "      <th>3</th>\n",
       "      <td>0006315.xml</td>\n",
       "      <td>0006315.jpg</td>\n",
       "      <td>1</td>\n",
       "      <td>0</td>\n",
       "      <td>0</td>\n",
       "    </tr>\n",
       "    <tr>\n",
       "      <th>4</th>\n",
       "      <td>2018-05-31_10-59-12-265128_leftImg8bit.xml</td>\n",
       "      <td>2018-05-31_10-59-12-265128_leftImg8bit.jpg</td>\n",
       "      <td>1</td>\n",
       "      <td>1</td>\n",
       "      <td>1</td>\n",
       "    </tr>\n",
       "  </tbody>\n",
       "</table>\n",
       "</div>"
      ],
      "text/plain": [
       "                                     Xml_name  \\\n",
       "0                                 0001062.xml   \n",
       "1                                 0008873.xml   \n",
       "2                                 0000358.xml   \n",
       "3                                 0006315.xml   \n",
       "4  2018-05-31_10-59-12-265128_leftImg8bit.xml   \n",
       "\n",
       "                                   Image_name  Person_only  Truck_only  Both  \n",
       "0                                 0001062.jpg            0           1     0  \n",
       "1                                 0008873.jpg            1           0     0  \n",
       "2                                 0000358.jpg            1           1     1  \n",
       "3                                 0006315.jpg            1           0     0  \n",
       "4  2018-05-31_10-59-12-265128_leftImg8bit.jpg            1           1     1  "
      ]
     },
     "execution_count": 3,
     "metadata": {},
     "output_type": "execute_result"
    }
   ],
   "source": [
    "train = pd.read_excel('./data/Training_set.xlsx')\n",
    "train.head()"
   ]
  },
  {
   "cell_type": "code",
   "execution_count": 4,
   "metadata": {},
   "outputs": [
    {
     "data": {
      "text/html": [
       "<div>\n",
       "<style scoped>\n",
       "    .dataframe tbody tr th:only-of-type {\n",
       "        vertical-align: middle;\n",
       "    }\n",
       "\n",
       "    .dataframe tbody tr th {\n",
       "        vertical-align: top;\n",
       "    }\n",
       "\n",
       "    .dataframe thead th {\n",
       "        text-align: right;\n",
       "    }\n",
       "</style>\n",
       "<table border=\"1\" class=\"dataframe\">\n",
       "  <thead>\n",
       "    <tr style=\"text-align: right;\">\n",
       "      <th></th>\n",
       "      <th>Image_name</th>\n",
       "    </tr>\n",
       "  </thead>\n",
       "  <tbody>\n",
       "    <tr>\n",
       "      <th>0</th>\n",
       "      <td>0003685.jpg</td>\n",
       "    </tr>\n",
       "    <tr>\n",
       "      <th>1</th>\n",
       "      <td>0006975.jpg</td>\n",
       "    </tr>\n",
       "    <tr>\n",
       "      <th>2</th>\n",
       "      <td>0000827.jpg</td>\n",
       "    </tr>\n",
       "    <tr>\n",
       "      <th>3</th>\n",
       "      <td>0000550.jpg</td>\n",
       "    </tr>\n",
       "    <tr>\n",
       "      <th>4</th>\n",
       "      <td>0001095.jpg</td>\n",
       "    </tr>\n",
       "  </tbody>\n",
       "</table>\n",
       "</div>"
      ],
      "text/plain": [
       "    Image_name\n",
       "0  0003685.jpg\n",
       "1  0006975.jpg\n",
       "2  0000827.jpg\n",
       "3  0000550.jpg\n",
       "4  0001095.jpg"
      ]
     },
     "execution_count": 4,
     "metadata": {},
     "output_type": "execute_result"
    }
   ],
   "source": [
    "test = pd.read_excel('./data/Test_set.xlsx')\n",
    "test.head()"
   ]
  },
  {
   "cell_type": "code",
   "execution_count": 5,
   "metadata": {},
   "outputs": [
    {
     "data": {
      "text/plain": [
       "400"
      ]
     },
     "execution_count": 5,
     "metadata": {},
     "output_type": "execute_result"
    }
   ],
   "source": [
    "len(train)"
   ]
  },
  {
   "cell_type": "code",
   "execution_count": 6,
   "metadata": {},
   "outputs": [
    {
     "data": {
      "text/plain": [
       "'/home/ujjwal/Projects/Intel-Hackathon'"
      ]
     },
     "execution_count": 6,
     "metadata": {},
     "output_type": "execute_result"
    }
   ],
   "source": [
    "os.getcwd()"
   ]
  },
  {
   "cell_type": "code",
   "execution_count": 7,
   "metadata": {},
   "outputs": [
    {
     "name": "stderr",
     "output_type": "stream",
     "text": [
      "100%|██████████| 400/400 [00:00<00:00, 2456.08it/s]\n"
     ]
    }
   ],
   "source": [
    "a = []\n",
    "for f in tqdm(range(len(train))):\n",
    "    img_file = os.path.join(img_path, train.iloc[f, 1])\n",
    "    tree = ET.parse(os.path.join(anno_path, train.iloc[f, 0]))\n",
    "    root = tree.getroot()\n",
    "    for obj in root.iter('object'):\n",
    "        cls = obj.find('name').text\n",
    "        if cls in ['truck', 'rider', 'person']:    \n",
    "            xmlbox = obj.find('bndbox')\n",
    "            bbox = (int(xmlbox.find('xmin').text), int(xmlbox.find('ymin').text), int(xmlbox.find('xmax').text),\n",
    "                    int(xmlbox.find('ymax').text))\n",
    "            l = [os.getcwd() + '/' + img_file, str(bbox[0]), str(bbox[1]), str(bbox[2]), str(bbox[3]),cls]\n",
    "            a.append(l)"
   ]
  },
  {
   "cell_type": "code",
   "execution_count": 8,
   "metadata": {},
   "outputs": [],
   "source": [
    "annotations = pd.DataFrame(a, columns=['image', 'xmin', 'ymix', 'xmax', 'ymax', 'class'])"
   ]
  },
  {
   "cell_type": "code",
   "execution_count": 9,
   "metadata": {},
   "outputs": [
    {
     "data": {
      "text/html": [
       "<div>\n",
       "<style scoped>\n",
       "    .dataframe tbody tr th:only-of-type {\n",
       "        vertical-align: middle;\n",
       "    }\n",
       "\n",
       "    .dataframe tbody tr th {\n",
       "        vertical-align: top;\n",
       "    }\n",
       "\n",
       "    .dataframe thead th {\n",
       "        text-align: right;\n",
       "    }\n",
       "</style>\n",
       "<table border=\"1\" class=\"dataframe\">\n",
       "  <thead>\n",
       "    <tr style=\"text-align: right;\">\n",
       "      <th></th>\n",
       "      <th>image</th>\n",
       "      <th>xmin</th>\n",
       "      <th>ymix</th>\n",
       "      <th>xmax</th>\n",
       "      <th>ymax</th>\n",
       "      <th>class</th>\n",
       "    </tr>\n",
       "  </thead>\n",
       "  <tbody>\n",
       "    <tr>\n",
       "      <th>0</th>\n",
       "      <td>/home/ujjwal/Projects/Intel-Hackathon/data/ima...</td>\n",
       "      <td>876</td>\n",
       "      <td>531</td>\n",
       "      <td>919</td>\n",
       "      <td>545</td>\n",
       "      <td>vehicle fallback</td>\n",
       "    </tr>\n",
       "    <tr>\n",
       "      <th>1</th>\n",
       "      <td>/home/ujjwal/Projects/Intel-Hackathon/data/ima...</td>\n",
       "      <td>877</td>\n",
       "      <td>544</td>\n",
       "      <td>924</td>\n",
       "      <td>572</td>\n",
       "      <td>bus</td>\n",
       "    </tr>\n",
       "    <tr>\n",
       "      <th>2</th>\n",
       "      <td>/home/ujjwal/Projects/Intel-Hackathon/data/ima...</td>\n",
       "      <td>850</td>\n",
       "      <td>554</td>\n",
       "      <td>876</td>\n",
       "      <td>561</td>\n",
       "      <td>car</td>\n",
       "    </tr>\n",
       "    <tr>\n",
       "      <th>3</th>\n",
       "      <td>/home/ujjwal/Projects/Intel-Hackathon/data/ima...</td>\n",
       "      <td>883</td>\n",
       "      <td>566</td>\n",
       "      <td>926</td>\n",
       "      <td>582</td>\n",
       "      <td>car</td>\n",
       "    </tr>\n",
       "    <tr>\n",
       "      <th>4</th>\n",
       "      <td>/home/ujjwal/Projects/Intel-Hackathon/data/ima...</td>\n",
       "      <td>859</td>\n",
       "      <td>580</td>\n",
       "      <td>987</td>\n",
       "      <td>697</td>\n",
       "      <td>car</td>\n",
       "    </tr>\n",
       "  </tbody>\n",
       "</table>\n",
       "</div>"
      ],
      "text/plain": [
       "                                               image xmin ymix xmax ymax  \\\n",
       "0  /home/ujjwal/Projects/Intel-Hackathon/data/ima...  876  531  919  545   \n",
       "1  /home/ujjwal/Projects/Intel-Hackathon/data/ima...  877  544  924  572   \n",
       "2  /home/ujjwal/Projects/Intel-Hackathon/data/ima...  850  554  876  561   \n",
       "3  /home/ujjwal/Projects/Intel-Hackathon/data/ima...  883  566  926  582   \n",
       "4  /home/ujjwal/Projects/Intel-Hackathon/data/ima...  859  580  987  697   \n",
       "\n",
       "              class  \n",
       "0  vehicle fallback  \n",
       "1               bus  \n",
       "2               car  \n",
       "3               car  \n",
       "4               car  "
      ]
     },
     "execution_count": 9,
     "metadata": {},
     "output_type": "execute_result"
    }
   ],
   "source": [
    "annotations.head()"
   ]
  },
  {
   "cell_type": "code",
   "execution_count": 10,
   "metadata": {},
   "outputs": [],
   "source": [
    "annotations.to_csv(\"./data/annotations.csv\", index=False, header=False)"
   ]
  },
  {
   "cell_type": "code",
   "execution_count": 11,
   "metadata": {},
   "outputs": [
    {
     "data": {
      "text/html": [
       "<div>\n",
       "<style scoped>\n",
       "    .dataframe tbody tr th:only-of-type {\n",
       "        vertical-align: middle;\n",
       "    }\n",
       "\n",
       "    .dataframe tbody tr th {\n",
       "        vertical-align: top;\n",
       "    }\n",
       "\n",
       "    .dataframe thead th {\n",
       "        text-align: right;\n",
       "    }\n",
       "</style>\n",
       "<table border=\"1\" class=\"dataframe\">\n",
       "  <thead>\n",
       "    <tr style=\"text-align: right;\">\n",
       "      <th></th>\n",
       "      <th>image</th>\n",
       "      <th>xmin</th>\n",
       "      <th>ymix</th>\n",
       "      <th>xmax</th>\n",
       "      <th>ymax</th>\n",
       "      <th>class</th>\n",
       "    </tr>\n",
       "  </thead>\n",
       "  <tbody>\n",
       "    <tr>\n",
       "      <th>0</th>\n",
       "      <td>/home/ujjwal/Projects/Intel-Hackathon/data/ima...</td>\n",
       "      <td>876</td>\n",
       "      <td>531</td>\n",
       "      <td>919</td>\n",
       "      <td>545</td>\n",
       "      <td>vehicle fallback</td>\n",
       "    </tr>\n",
       "    <tr>\n",
       "      <th>1</th>\n",
       "      <td>/home/ujjwal/Projects/Intel-Hackathon/data/ima...</td>\n",
       "      <td>877</td>\n",
       "      <td>544</td>\n",
       "      <td>924</td>\n",
       "      <td>572</td>\n",
       "      <td>bus</td>\n",
       "    </tr>\n",
       "    <tr>\n",
       "      <th>2</th>\n",
       "      <td>/home/ujjwal/Projects/Intel-Hackathon/data/ima...</td>\n",
       "      <td>850</td>\n",
       "      <td>554</td>\n",
       "      <td>876</td>\n",
       "      <td>561</td>\n",
       "      <td>car</td>\n",
       "    </tr>\n",
       "    <tr>\n",
       "      <th>3</th>\n",
       "      <td>/home/ujjwal/Projects/Intel-Hackathon/data/ima...</td>\n",
       "      <td>883</td>\n",
       "      <td>566</td>\n",
       "      <td>926</td>\n",
       "      <td>582</td>\n",
       "      <td>car</td>\n",
       "    </tr>\n",
       "    <tr>\n",
       "      <th>4</th>\n",
       "      <td>/home/ujjwal/Projects/Intel-Hackathon/data/ima...</td>\n",
       "      <td>859</td>\n",
       "      <td>580</td>\n",
       "      <td>987</td>\n",
       "      <td>697</td>\n",
       "      <td>car</td>\n",
       "    </tr>\n",
       "  </tbody>\n",
       "</table>\n",
       "</div>"
      ],
      "text/plain": [
       "                                               image xmin ymix xmax ymax  \\\n",
       "0  /home/ujjwal/Projects/Intel-Hackathon/data/ima...  876  531  919  545   \n",
       "1  /home/ujjwal/Projects/Intel-Hackathon/data/ima...  877  544  924  572   \n",
       "2  /home/ujjwal/Projects/Intel-Hackathon/data/ima...  850  554  876  561   \n",
       "3  /home/ujjwal/Projects/Intel-Hackathon/data/ima...  883  566  926  582   \n",
       "4  /home/ujjwal/Projects/Intel-Hackathon/data/ima...  859  580  987  697   \n",
       "\n",
       "              class  \n",
       "0  vehicle fallback  \n",
       "1               bus  \n",
       "2               car  \n",
       "3               car  \n",
       "4               car  "
      ]
     },
     "execution_count": 11,
     "metadata": {},
     "output_type": "execute_result"
    }
   ],
   "source": [
    "annotations.head()"
   ]
  },
  {
   "cell_type": "code",
   "execution_count": 12,
   "metadata": {},
   "outputs": [
    {
     "data": {
      "text/plain": [
       "array(['vehicle fallback', 'bus', 'car', 'truck', 'motorcycle',\n",
       "       'autorickshaw', 'rider', 'person', 'traffic light', 'traffic sign',\n",
       "       'animal', 'bicycle', 'caravan'], dtype=object)"
      ]
     },
     "execution_count": 12,
     "metadata": {},
     "output_type": "execute_result"
    }
   ],
   "source": [
    "cls = annotations['class'].unique()\n",
    "cls"
   ]
  },
  {
   "cell_type": "code",
   "execution_count": 13,
   "metadata": {},
   "outputs": [
    {
     "data": {
      "text/html": [
       "<div>\n",
       "<style scoped>\n",
       "    .dataframe tbody tr th:only-of-type {\n",
       "        vertical-align: middle;\n",
       "    }\n",
       "\n",
       "    .dataframe tbody tr th {\n",
       "        vertical-align: top;\n",
       "    }\n",
       "\n",
       "    .dataframe thead th {\n",
       "        text-align: right;\n",
       "    }\n",
       "</style>\n",
       "<table border=\"1\" class=\"dataframe\">\n",
       "  <thead>\n",
       "    <tr style=\"text-align: right;\">\n",
       "      <th></th>\n",
       "      <th>class_name</th>\n",
       "      <th>class_id</th>\n",
       "    </tr>\n",
       "  </thead>\n",
       "  <tbody>\n",
       "    <tr>\n",
       "      <th>0</th>\n",
       "      <td>vehicle fallback</td>\n",
       "      <td>0</td>\n",
       "    </tr>\n",
       "    <tr>\n",
       "      <th>1</th>\n",
       "      <td>bus</td>\n",
       "      <td>1</td>\n",
       "    </tr>\n",
       "    <tr>\n",
       "      <th>2</th>\n",
       "      <td>car</td>\n",
       "      <td>2</td>\n",
       "    </tr>\n",
       "    <tr>\n",
       "      <th>3</th>\n",
       "      <td>truck</td>\n",
       "      <td>3</td>\n",
       "    </tr>\n",
       "    <tr>\n",
       "      <th>4</th>\n",
       "      <td>motorcycle</td>\n",
       "      <td>4</td>\n",
       "    </tr>\n",
       "  </tbody>\n",
       "</table>\n",
       "</div>"
      ],
      "text/plain": [
       "         class_name  class_id\n",
       "0  vehicle fallback         0\n",
       "1               bus         1\n",
       "2               car         2\n",
       "3             truck         3\n",
       "4        motorcycle         4"
      ]
     },
     "execution_count": 13,
     "metadata": {},
     "output_type": "execute_result"
    }
   ],
   "source": [
    "class_ = pd.DataFrame(cls, columns=[\"class_name\"])\n",
    "class_['class_id'] = range(0,len(class_))\n",
    "class_.head()"
   ]
  },
  {
   "cell_type": "code",
   "execution_count": 14,
   "metadata": {},
   "outputs": [
    {
     "data": {
      "text/plain": [
       "(13, 2)"
      ]
     },
     "execution_count": 14,
     "metadata": {},
     "output_type": "execute_result"
    }
   ],
   "source": [
    "class_.shape"
   ]
  },
  {
   "cell_type": "code",
   "execution_count": 15,
   "metadata": {},
   "outputs": [],
   "source": [
    "class_.to_csv('./data/class.csv', index=False, header=False)"
   ]
  },
  {
   "cell_type": "code",
   "execution_count": 24,
   "metadata": {},
   "outputs": [],
   "source": [
    "cls_dict = {}\n",
    "for i in range(len(class_)):\n",
    "    cls_dict[class_.iloc[i, 1]] = class_.iloc[i, 0]"
   ]
  },
  {
   "cell_type": "code",
   "execution_count": 25,
   "metadata": {},
   "outputs": [
    {
     "data": {
      "text/plain": [
       "{0: 'vehicle fallback',\n",
       " 1: 'bus',\n",
       " 2: 'car',\n",
       " 3: 'truck',\n",
       " 4: 'motorcycle',\n",
       " 5: 'autorickshaw',\n",
       " 6: 'rider',\n",
       " 7: 'person',\n",
       " 8: 'traffic light',\n",
       " 9: 'traffic sign',\n",
       " 10: 'animal',\n",
       " 11: 'bicycle',\n",
       " 12: 'caravan'}"
      ]
     },
     "execution_count": 25,
     "metadata": {},
     "output_type": "execute_result"
    }
   ],
   "source": [
    "cls_dict"
   ]
  }
 ],
 "metadata": {
  "kernelspec": {
   "display_name": "Python 3",
   "language": "python",
   "name": "python3"
  },
  "language_info": {
   "codemirror_mode": {
    "name": "ipython",
    "version": 3
   },
   "file_extension": ".py",
   "mimetype": "text/x-python",
   "name": "python",
   "nbconvert_exporter": "python",
   "pygments_lexer": "ipython3",
   "version": "3.6.8"
  }
 },
 "nbformat": 4,
 "nbformat_minor": 2
}
