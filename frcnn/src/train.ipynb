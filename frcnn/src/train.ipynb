{
 "cells": [
  {
   "cell_type": "code",
   "execution_count": 1,
   "metadata": {},
   "outputs": [],
   "source": [
    "NEW = '../models/some2.pth'\n",
    "OLD = '../models/some1.pth'"
   ]
  },
  {
   "cell_type": "code",
   "execution_count": 2,
   "metadata": {},
   "outputs": [],
   "source": [
    "# General Purpose\n",
    "import os\n",
    "import math\n",
    "from tqdm import tqdm\n",
    "import pandas as pd\n",
    "import numpy as np\n",
    "from PIL import Image\n",
    "import matplotlib\n",
    "import matplotlib.pyplot as plt\n",
    "import matplotlib.patches as patches\n",
    "matplotlib.rcParams['text.color'] = 'blue'\n",
    "\n",
    "# Torch specifics\n",
    "import torch\n",
    "from torch import nn\n",
    "import torchvision\n",
    "from torchvision import transforms\n",
    "from torch.utils.data import Dataset, DataLoader\n",
    "from torch.optim.optimizer import Optimizer\n",
    "\n",
    "# Task specific\n",
    "import utils\n",
    "import transforms as T\n",
    "from engine import train_one_epoch, evaluate\n",
    "from torchvision.models.detection import fasterrcnn_resnet50_fpn\n",
    "from torchvision.models.detection.faster_rcnn import FastRCNNPredictor"
   ]
  },
  {
   "cell_type": "code",
   "execution_count": null,
   "metadata": {},
   "outputs": [],
   "source": [
    "## check if new model already exists and if old model exists or not!\n",
    "if os.path.exists(OLD) is False:\n",
    "    raise Exception('no such model ' + NEW.split('/')[-1] + ' exixts !')\n",
    "if os.path.exists(NEW):\n",
    "    raise Exception('model ' + NEW.split('/')[-1] + ' already exixts !')"
   ]
  },
  {
   "cell_type": "code",
   "execution_count": 3,
   "metadata": {},
   "outputs": [],
   "source": [
    "## check device: cpu or gpu(cuda)\n",
    "device = torch.device('cuda') if torch.cuda.is_available() else torch.device('cpu')"
   ]
  },
  {
   "cell_type": "code",
   "execution_count": 4,
   "metadata": {},
   "outputs": [
    {
     "data": {
      "text/html": [
       "<div>\n",
       "<style scoped>\n",
       "    .dataframe tbody tr th:only-of-type {\n",
       "        vertical-align: middle;\n",
       "    }\n",
       "\n",
       "    .dataframe tbody tr th {\n",
       "        vertical-align: top;\n",
       "    }\n",
       "\n",
       "    .dataframe thead th {\n",
       "        text-align: right;\n",
       "    }\n",
       "</style>\n",
       "<table border=\"1\" class=\"dataframe\">\n",
       "  <thead>\n",
       "    <tr style=\"text-align: right;\">\n",
       "      <th></th>\n",
       "      <th>image</th>\n",
       "      <th>xmin</th>\n",
       "      <th>ymix</th>\n",
       "      <th>xmax</th>\n",
       "      <th>ymax</th>\n",
       "      <th>class</th>\n",
       "    </tr>\n",
       "  </thead>\n",
       "  <tbody>\n",
       "    <tr>\n",
       "      <th>0</th>\n",
       "      <td>frontFar/BLR-2018-03-22_17-39-26_2_frontFar/00...</td>\n",
       "      <td>641</td>\n",
       "      <td>431</td>\n",
       "      <td>658</td>\n",
       "      <td>446</td>\n",
       "      <td>0</td>\n",
       "    </tr>\n",
       "    <tr>\n",
       "      <th>1</th>\n",
       "      <td>frontFar/BLR-2018-03-22_17-39-26_2_frontFar/00...</td>\n",
       "      <td>661</td>\n",
       "      <td>397</td>\n",
       "      <td>711</td>\n",
       "      <td>452</td>\n",
       "      <td>1</td>\n",
       "    </tr>\n",
       "    <tr>\n",
       "      <th>2</th>\n",
       "      <td>frontFar/BLR-2018-03-22_17-39-26_2_frontFar/00...</td>\n",
       "      <td>593</td>\n",
       "      <td>405</td>\n",
       "      <td>639</td>\n",
       "      <td>466</td>\n",
       "      <td>2</td>\n",
       "    </tr>\n",
       "    <tr>\n",
       "      <th>3</th>\n",
       "      <td>frontFar/BLR-2018-03-22_17-39-26_2_frontFar/00...</td>\n",
       "      <td>525</td>\n",
       "      <td>405</td>\n",
       "      <td>560</td>\n",
       "      <td>449</td>\n",
       "      <td>3</td>\n",
       "    </tr>\n",
       "    <tr>\n",
       "      <th>4</th>\n",
       "      <td>frontFar/BLR-2018-03-22_17-39-26_2_frontFar/00...</td>\n",
       "      <td>555</td>\n",
       "      <td>341</td>\n",
       "      <td>680</td>\n",
       "      <td>483</td>\n",
       "      <td>4</td>\n",
       "    </tr>\n",
       "  </tbody>\n",
       "</table>\n",
       "</div>"
      ],
      "text/plain": [
       "                                               image  xmin  ymix  xmax  ymax  \\\n",
       "0  frontFar/BLR-2018-03-22_17-39-26_2_frontFar/00...   641   431   658   446   \n",
       "1  frontFar/BLR-2018-03-22_17-39-26_2_frontFar/00...   661   397   711   452   \n",
       "2  frontFar/BLR-2018-03-22_17-39-26_2_frontFar/00...   593   405   639   466   \n",
       "3  frontFar/BLR-2018-03-22_17-39-26_2_frontFar/00...   525   405   560   449   \n",
       "4  frontFar/BLR-2018-03-22_17-39-26_2_frontFar/00...   555   341   680   483   \n",
       "\n",
       "   class  \n",
       "0      0  \n",
       "1      1  \n",
       "2      2  \n",
       "3      3  \n",
       "4      4  "
      ]
     },
     "execution_count": 4,
     "metadata": {},
     "output_type": "execute_result"
    }
   ],
   "source": [
    "## train examples\n",
    "train_df = pd.read_csv(\"../csv/annotations_train.csv\")\n",
    "train_df.head()"
   ]
  },
  {
   "cell_type": "code",
   "execution_count": 5,
   "metadata": {},
   "outputs": [
    {
     "data": {
      "text/html": [
       "<div>\n",
       "<style scoped>\n",
       "    .dataframe tbody tr th:only-of-type {\n",
       "        vertical-align: middle;\n",
       "    }\n",
       "\n",
       "    .dataframe tbody tr th {\n",
       "        vertical-align: top;\n",
       "    }\n",
       "\n",
       "    .dataframe thead th {\n",
       "        text-align: right;\n",
       "    }\n",
       "</style>\n",
       "<table border=\"1\" class=\"dataframe\">\n",
       "  <thead>\n",
       "    <tr style=\"text-align: right;\">\n",
       "      <th></th>\n",
       "      <th>image</th>\n",
       "      <th>xmin</th>\n",
       "      <th>ymix</th>\n",
       "      <th>xmax</th>\n",
       "      <th>ymax</th>\n",
       "      <th>class</th>\n",
       "    </tr>\n",
       "  </thead>\n",
       "  <tbody>\n",
       "    <tr>\n",
       "      <th>0</th>\n",
       "      <td>frontFar/BLR-2018-04-16_16-14-27_frontFar/0006...</td>\n",
       "      <td>401</td>\n",
       "      <td>392</td>\n",
       "      <td>619</td>\n",
       "      <td>488</td>\n",
       "      <td>4</td>\n",
       "    </tr>\n",
       "    <tr>\n",
       "      <th>1</th>\n",
       "      <td>frontFar/BLR-2018-04-16_16-14-27_frontFar/0006...</td>\n",
       "      <td>638</td>\n",
       "      <td>381</td>\n",
       "      <td>835</td>\n",
       "      <td>497</td>\n",
       "      <td>4</td>\n",
       "    </tr>\n",
       "    <tr>\n",
       "      <th>2</th>\n",
       "      <td>frontFar/BLR-2018-04-16_16-14-27_frontFar/0006...</td>\n",
       "      <td>733</td>\n",
       "      <td>379</td>\n",
       "      <td>928</td>\n",
       "      <td>493</td>\n",
       "      <td>4</td>\n",
       "    </tr>\n",
       "    <tr>\n",
       "      <th>3</th>\n",
       "      <td>frontFar/BLR-2018-04-16_16-14-27_frontFar/0006...</td>\n",
       "      <td>1093</td>\n",
       "      <td>486</td>\n",
       "      <td>1172</td>\n",
       "      <td>707</td>\n",
       "      <td>7</td>\n",
       "    </tr>\n",
       "    <tr>\n",
       "      <th>4</th>\n",
       "      <td>frontFar/BLR-2018-04-16_16-14-27_frontFar/0006...</td>\n",
       "      <td>1101</td>\n",
       "      <td>426</td>\n",
       "      <td>1144</td>\n",
       "      <td>463</td>\n",
       "      <td>5</td>\n",
       "    </tr>\n",
       "  </tbody>\n",
       "</table>\n",
       "</div>"
      ],
      "text/plain": [
       "                                               image  xmin  ymix  xmax  ymax  \\\n",
       "0  frontFar/BLR-2018-04-16_16-14-27_frontFar/0006...   401   392   619   488   \n",
       "1  frontFar/BLR-2018-04-16_16-14-27_frontFar/0006...   638   381   835   497   \n",
       "2  frontFar/BLR-2018-04-16_16-14-27_frontFar/0006...   733   379   928   493   \n",
       "3  frontFar/BLR-2018-04-16_16-14-27_frontFar/0006...  1093   486  1172   707   \n",
       "4  frontFar/BLR-2018-04-16_16-14-27_frontFar/0006...  1101   426  1144   463   \n",
       "\n",
       "   class  \n",
       "0      4  \n",
       "1      4  \n",
       "2      4  \n",
       "3      7  \n",
       "4      5  "
      ]
     },
     "execution_count": 5,
     "metadata": {},
     "output_type": "execute_result"
    }
   ],
   "source": [
    "## validation examples\n",
    "val_df = pd.read_csv(\"../csv/annotations_val.csv\")\n",
    "val_df.head()"
   ]
  },
  {
   "cell_type": "code",
   "execution_count": 6,
   "metadata": {},
   "outputs": [
    {
     "data": {
      "text/html": [
       "<div>\n",
       "<style scoped>\n",
       "    .dataframe tbody tr th:only-of-type {\n",
       "        vertical-align: middle;\n",
       "    }\n",
       "\n",
       "    .dataframe tbody tr th {\n",
       "        vertical-align: top;\n",
       "    }\n",
       "\n",
       "    .dataframe thead th {\n",
       "        text-align: right;\n",
       "    }\n",
       "</style>\n",
       "<table border=\"1\" class=\"dataframe\">\n",
       "  <thead>\n",
       "    <tr style=\"text-align: right;\">\n",
       "      <th></th>\n",
       "      <th>class</th>\n",
       "      <th>idx</th>\n",
       "    </tr>\n",
       "  </thead>\n",
       "  <tbody>\n",
       "    <tr>\n",
       "      <th>0</th>\n",
       "      <td>car</td>\n",
       "      <td>0</td>\n",
       "    </tr>\n",
       "    <tr>\n",
       "      <th>1</th>\n",
       "      <td>bus</td>\n",
       "      <td>1</td>\n",
       "    </tr>\n",
       "    <tr>\n",
       "      <th>2</th>\n",
       "      <td>autorickshaw</td>\n",
       "      <td>2</td>\n",
       "    </tr>\n",
       "    <tr>\n",
       "      <th>3</th>\n",
       "      <td>vehicle fallback</td>\n",
       "      <td>3</td>\n",
       "    </tr>\n",
       "    <tr>\n",
       "      <th>4</th>\n",
       "      <td>truck</td>\n",
       "      <td>4</td>\n",
       "    </tr>\n",
       "  </tbody>\n",
       "</table>\n",
       "</div>"
      ],
      "text/plain": [
       "              class  idx\n",
       "0               car    0\n",
       "1               bus    1\n",
       "2      autorickshaw    2\n",
       "3  vehicle fallback    3\n",
       "4             truck    4"
      ]
     },
     "execution_count": 6,
     "metadata": {},
     "output_type": "execute_result"
    }
   ],
   "source": [
    "## class labels\n",
    "labels_idx = pd.read_csv('../csv/labels.csv')\n",
    "labels_idx.head()"
   ]
  },
  {
   "cell_type": "code",
   "execution_count": 7,
   "metadata": {},
   "outputs": [
    {
     "data": {
      "text/plain": [
       "{0: 'car',\n",
       " 1: 'bus',\n",
       " 2: 'autorickshaw',\n",
       " 3: 'vehicle fallback',\n",
       " 4: 'truck',\n",
       " 5: 'motorcycle',\n",
       " 6: 'rider',\n",
       " 7: 'person',\n",
       " 8: 'bicycle',\n",
       " 9: 'animal',\n",
       " 10: 'traffic sign',\n",
       " 11: 'train',\n",
       " 12: 'trailer',\n",
       " 13: 'traffic light',\n",
       " 14: 'caravan'}"
      ]
     },
     "execution_count": 7,
     "metadata": {},
     "output_type": "execute_result"
    }
   ],
   "source": [
    "## labels dict\n",
    "labels_dict = {labels_idx.iloc[i,1] : labels_idx.iloc[i,0] for i in range(len(labels_idx))}\n",
    "labels_dict"
   ]
  },
  {
   "cell_type": "code",
   "execution_count": 8,
   "metadata": {},
   "outputs": [],
   "source": [
    "## transform\n",
    "def get_transform(train):\n",
    "    transforms = []\n",
    "    transforms.append(T.ToTensor())\n",
    "    if train:\n",
    "        transforms.append(T.RandomHorizontalFlip(0.5))\n",
    "    return T.Compose(transforms)"
   ]
  },
  {
   "cell_type": "code",
   "execution_count": null,
   "metadata": {},
   "outputs": [],
   "source": [
    "## custom dataset\n",
    "class Data(Dataset):\n",
    "    \"\"\"IDD dataset.\"\"\"\n",
    "\n",
    "    def __init__(self, csv_file, root_dir, transforms=None):\n",
    "        \"\"\"\n",
    "        Args:\n",
    "            csv_file (string): Path to the csv file with annotations.\n",
    "            root_dir (string): Directory with all the images.\n",
    "            transform (callable, optional): Optional transform to be applied\n",
    "                on a sample.\n",
    "        \"\"\"\n",
    "        self.frame = pd.read_csv(csv_file)\n",
    "        self.group = self.frame.groupby('image')\n",
    "        self.unique_frame = self.frame.image.unique()\n",
    "        self.root_dir = root_dir\n",
    "        self.transforms = transforms\n",
    "\n",
    "    def __len__(self):\n",
    "        return len(self.unique_frame)\n",
    "\n",
    "    def __getitem__(self, idx):\n",
    "        img_name = os.path.join(self.root_dir,\n",
    "                                self.unique_frame[idx])\n",
    "        image = Image.open(img_name, mode='r').convert('RGB')\n",
    "        boxes = torch.Tensor(self.group.get_group(self.unique_frame[idx]).iloc[:,1:-1].values)\n",
    "        labels = self.group.get_group(self.unique_frame[idx]).iloc[:,-1].values\n",
    "        target = {\"boxes\": boxes, \"labels\":labels}\n",
    "\n",
    "        if self.transforms is not None:\n",
    "            image, target = self.transforms(image, target)\n",
    "        \n",
    "        return image, target"
   ]
  },
  {
   "cell_type": "code",
   "execution_count": null,
   "metadata": {},
   "outputs": [],
   "source": [
    "## dataloader\n",
    "train = Data(\"../csv/annotations_train.csv\", 'data/JPEGImages', get_transform(train=True))\n",
    "train_dl =  torch.utils.data.DataLoader(train, batch_size=2, shuffle=True, num_workers=4, collate_fn=utils.collate_fn)"
   ]
  },
  {
   "cell_type": "code",
   "execution_count": null,
   "metadata": {},
   "outputs": [],
   "source": [
    "## model build\n",
    "def build(num_labels):\n",
    "    model = fasterrcnn_resnet50_fpn(pretrained=True)\n",
    "    in_features = model.roi_heads.box_predictor.cls_score.in_features\n",
    "    model.roi_heads.box_predictor = FastRCNNPredictor(in_features, num_labels)\n",
    "    return model.cuda()"
   ]
  },
  {
   "cell_type": "code",
   "execution_count": null,
   "metadata": {},
   "outputs": [],
   "source": [
    "## plot results\n",
    "def plot(image, target, idx, save=False):\n",
    "    plt.imshow(image.permute(1, 2, 0).cpu())\n",
    "    for i in range(target[idx]['boxes'].shape[0]):\n",
    "        x1, y1, x2, y2 = target[idx]['boxes'][i][0].cpu(), target[idx]['boxes'][i][1].cpu(), target[idx]['boxes'][i][2].cpu(), target[idx]['boxes'][i][3].cpu()\n",
    "        plt.gca().add_patch(patches.Rectangle((x1, y1), x2-x1, y2-y1, label=labels_dict[target[idx]['labels'][i].cpu().item()], edgecolor='r', linewidth=1, facecolor='none'))\n",
    "        if save is True:\n",
    "            plt.savefig('../test/new.png', bbox_inches='tight')"
   ]
  },
  {
   "cell_type": "code",
   "execution_count": null,
   "metadata": {},
   "outputs": [],
   "source": [
    "## predict\n",
    "def predict(model, img):\n",
    "    img = img.cuda()\n",
    "    model.eval()\n",
    "    with torch.no_grad():\n",
    "        preds = model([img])\n",
    "    return preds"
   ]
  },
  {
   "cell_type": "code",
   "execution_count": null,
   "metadata": {},
   "outputs": [],
   "source": [
    "## start model training\n",
    "model = build(len(labels_idx))\n",
    "model.to(device)\n",
    "params = [p for p in model.parameters() if p.requires_grad]\n",
    "optimizer = torch.optim.SGD(params, lr=0.005,\n",
    "                            momentum=0.9, weight_decay=0.0005)\n",
    "lr_scheduler = torch.optim.lr_scheduler.StepLR(optimizer, step_size=3, gamma=0.1)"
   ]
  },
  {
   "cell_type": "code",
   "execution_count": null,
   "metadata": {},
   "outputs": [],
   "source": [
    "## load previous model\n",
    "checkpoint = torch.load(OLD)\n",
    "model.load_state_dict(checkpoint['model_state_dict'])\n",
    "optimizer.load_state_dict(checkpoint['optimizer_state_dict'])"
   ]
  },
  {
   "cell_type": "code",
   "execution_count": null,
   "metadata": {},
   "outputs": [
    {
     "data": {
      "text/plain": [
       "{'boxes': tensor([[622., 431., 639., 446.],\n",
       "         [569., 397., 619., 452.],\n",
       "         [641., 405., 687., 466.]]), 'labels': array([0, 1, 2])}"
      ]
     },
     "execution_count": 16,
     "metadata": {},
     "output_type": "execute_result"
    }
   ],
   "source": [
    "## train example test\n",
    "img, target = next(iter(train))\n",
    "target"
   ]
  },
  {
   "cell_type": "code",
   "execution_count": null,
   "metadata": {},
   "outputs": [
    {
     "name": "stderr",
     "output_type": "stream",
     "text": [
      "\r",
      "  0%|          | 0/10 [00:00<?, ?it/s]"
     ]
    },
    {
     "name": "stdout",
     "output_type": "stream",
     "text": [
      "Epoch: [0]  [    0/15785]  eta: 4:02:47  lr: 0.000010  loss: 0.1640 (0.1640)  loss_classifier: 0.0795 (0.0795)  loss_box_reg: 0.0396 (0.0396)  loss_objectness: 0.0082 (0.0082)  loss_rpn_box_reg: 0.0367 (0.0367)  time: 0.9229  data: 0.3291  max mem: 4033\n",
      "Epoch: [0]  [   50/15785]  eta: 1:36:22  lr: 0.000260  loss: 0.3915 (0.4990)  loss_classifier: 0.1957 (0.2075)  loss_box_reg: 0.1043 (0.1251)  loss_objectness: 0.0207 (0.0324)  loss_rpn_box_reg: 0.0958 (0.1340)  time: 0.3599  data: 0.0047  max mem: 4930\n",
      "Epoch: [0]  [  100/15785]  eta: 1:35:19  lr: 0.000509  loss: 0.5827 (0.5316)  loss_classifier: 0.2093 (0.2173)  loss_box_reg: 0.1488 (0.1322)  loss_objectness: 0.0231 (0.0343)  loss_rpn_box_reg: 0.1445 (0.1478)  time: 0.3578  data: 0.0047  max mem: 5040\n",
      "Epoch: [0]  [  150/15785]  eta: 1:33:30  lr: 0.000759  loss: 0.4875 (0.5257)  loss_classifier: 0.2180 (0.2144)  loss_box_reg: 0.1257 (0.1291)  loss_objectness: 0.0262 (0.0347)  loss_rpn_box_reg: 0.1067 (0.1475)  time: 0.3479  data: 0.0046  max mem: 5040\n",
      "Epoch: [0]  [  200/15785]  eta: 1:32:29  lr: 0.001009  loss: 0.5842 (0.5410)  loss_classifier: 0.2239 (0.2140)  loss_box_reg: 0.1278 (0.1286)  loss_objectness: 0.0300 (0.0359)  loss_rpn_box_reg: 0.1852 (0.1625)  time: 0.3482  data: 0.0046  max mem: 5040\n",
      "Epoch: [0]  [  250/15785]  eta: 1:31:45  lr: 0.001259  loss: 0.5320 (0.5363)  loss_classifier: 0.2026 (0.2111)  loss_box_reg: 0.1332 (0.1267)  loss_objectness: 0.0323 (0.0358)  loss_rpn_box_reg: 0.1947 (0.1627)  time: 0.3500  data: 0.0046  max mem: 5040\n",
      "Epoch: [0]  [  300/15785]  eta: 1:31:16  lr: 0.001508  loss: 0.5144 (0.5292)  loss_classifier: 0.2033 (0.2078)  loss_box_reg: 0.1333 (0.1261)  loss_objectness: 0.0298 (0.0355)  loss_rpn_box_reg: 0.1602 (0.1598)  time: 0.3477  data: 0.0046  max mem: 5050\n",
      "Epoch: [0]  [  350/15785]  eta: 1:30:46  lr: 0.001758  loss: 0.4669 (0.5283)  loss_classifier: 0.2104 (0.2081)  loss_box_reg: 0.1270 (0.1259)  loss_objectness: 0.0280 (0.0356)  loss_rpn_box_reg: 0.0972 (0.1587)  time: 0.3459  data: 0.0046  max mem: 5353\n",
      "Epoch: [0]  [  400/15785]  eta: 1:30:14  lr: 0.002008  loss: 0.6323 (0.5335)  loss_classifier: 0.2273 (0.2093)  loss_box_reg: 0.1584 (0.1269)  loss_objectness: 0.0337 (0.0358)  loss_rpn_box_reg: 0.1846 (0.1615)  time: 0.3444  data: 0.0045  max mem: 5353\n",
      "Epoch: [0]  [  450/15785]  eta: 1:29:54  lr: 0.002258  loss: 0.5230 (0.5306)  loss_classifier: 0.1980 (0.2077)  loss_box_reg: 0.1065 (0.1262)  loss_objectness: 0.0233 (0.0358)  loss_rpn_box_reg: 0.1212 (0.1609)  time: 0.3572  data: 0.0044  max mem: 5353\n",
      "Epoch: [0]  [  500/15785]  eta: 1:29:32  lr: 0.002507  loss: 0.4711 (0.5267)  loss_classifier: 0.1812 (0.2065)  loss_box_reg: 0.1073 (0.1259)  loss_objectness: 0.0271 (0.0357)  loss_rpn_box_reg: 0.1058 (0.1587)  time: 0.3485  data: 0.0045  max mem: 5353\n",
      "Epoch: [0]  [  550/15785]  eta: 1:29:10  lr: 0.002757  loss: 0.4876 (0.5321)  loss_classifier: 0.1829 (0.2080)  loss_box_reg: 0.1326 (0.1268)  loss_objectness: 0.0283 (0.0359)  loss_rpn_box_reg: 0.1076 (0.1614)  time: 0.3457  data: 0.0044  max mem: 5353\n",
      "Epoch: [0]  [  600/15785]  eta: 1:28:49  lr: 0.003007  loss: 0.4907 (0.5334)  loss_classifier: 0.1596 (0.2077)  loss_box_reg: 0.1122 (0.1269)  loss_objectness: 0.0261 (0.0357)  loss_rpn_box_reg: 0.1695 (0.1630)  time: 0.3507  data: 0.0043  max mem: 5353\n",
      "Epoch: [0]  [  650/15785]  eta: 1:28:29  lr: 0.003257  loss: 0.5508 (0.5325)  loss_classifier: 0.2096 (0.2072)  loss_box_reg: 0.1392 (0.1271)  loss_objectness: 0.0359 (0.0362)  loss_rpn_box_reg: 0.1640 (0.1621)  time: 0.3463  data: 0.0044  max mem: 5353\n",
      "Epoch: [0]  [  700/15785]  eta: 1:28:11  lr: 0.003506  loss: 0.3836 (0.5308)  loss_classifier: 0.1342 (0.2060)  loss_box_reg: 0.1055 (0.1263)  loss_objectness: 0.0366 (0.0368)  loss_rpn_box_reg: 0.0720 (0.1617)  time: 0.3537  data: 0.0043  max mem: 5353\n",
      "Epoch: [0]  [  750/15785]  eta: 1:27:53  lr: 0.003756  loss: 0.2980 (0.5282)  loss_classifier: 0.1370 (0.2051)  loss_box_reg: 0.0543 (0.1256)  loss_objectness: 0.0369 (0.0374)  loss_rpn_box_reg: 0.0490 (0.1602)  time: 0.3488  data: 0.0043  max mem: 5353\n",
      "Epoch: [0]  [  800/15785]  eta: 1:27:35  lr: 0.004006  loss: 0.6382 (0.5363)  loss_classifier: 0.2246 (0.2071)  loss_box_reg: 0.1589 (0.1270)  loss_objectness: 0.0562 (0.0388)  loss_rpn_box_reg: 0.2062 (0.1633)  time: 0.3504  data: 0.0045  max mem: 5353\n",
      "Epoch: [0]  [  850/15785]  eta: 1:27:16  lr: 0.004256  loss: 0.5443 (0.5354)  loss_classifier: 0.1940 (0.2063)  loss_box_reg: 0.1273 (0.1265)  loss_objectness: 0.0379 (0.0387)  loss_rpn_box_reg: 0.1774 (0.1638)  time: 0.3511  data: 0.0045  max mem: 5353\n",
      "Epoch: [0]  [  900/15785]  eta: 1:26:59  lr: 0.004505  loss: 0.3613 (0.5340)  loss_classifier: 0.1619 (0.2067)  loss_box_reg: 0.1134 (0.1262)  loss_objectness: 0.0233 (0.0382)  loss_rpn_box_reg: 0.0795 (0.1629)  time: 0.3498  data: 0.0044  max mem: 5353\n",
      "Epoch: [0]  [  950/15785]  eta: 1:26:40  lr: 0.004755  loss: 0.5115 (0.5339)  loss_classifier: 0.2045 (0.2073)  loss_box_reg: 0.1357 (0.1267)  loss_objectness: 0.0245 (0.0378)  loss_rpn_box_reg: 0.1112 (0.1622)  time: 0.3447  data: 0.0044  max mem: 5353\n",
      "Epoch: [0]  [ 1000/15785]  eta: 1:26:22  lr: 0.005000  loss: 0.5147 (0.5355)  loss_classifier: 0.2062 (0.2082)  loss_box_reg: 0.1146 (0.1265)  loss_objectness: 0.0293 (0.0379)  loss_rpn_box_reg: 0.1635 (0.1628)  time: 0.3477  data: 0.0043  max mem: 5353\n",
      "Epoch: [0]  [ 1050/15785]  eta: 1:26:00  lr: 0.005000  loss: 0.4122 (0.5350)  loss_classifier: 0.1455 (0.2080)  loss_box_reg: 0.1038 (0.1262)  loss_objectness: 0.0245 (0.0378)  loss_rpn_box_reg: 0.1196 (0.1631)  time: 0.3428  data: 0.0044  max mem: 5353\n",
      "Epoch: [0]  [ 1100/15785]  eta: 1:25:41  lr: 0.005000  loss: 0.6336 (0.5359)  loss_classifier: 0.2769 (0.2085)  loss_box_reg: 0.1423 (0.1262)  loss_objectness: 0.0215 (0.0376)  loss_rpn_box_reg: 0.1649 (0.1635)  time: 0.3481  data: 0.0045  max mem: 5353\n",
      "Epoch: [0]  [ 1150/15785]  eta: 1:25:23  lr: 0.005000  loss: 0.5481 (0.5377)  loss_classifier: 0.2349 (0.2097)  loss_box_reg: 0.1260 (0.1264)  loss_objectness: 0.0376 (0.0376)  loss_rpn_box_reg: 0.1603 (0.1640)  time: 0.3486  data: 0.0046  max mem: 5353\n",
      "Epoch: [0]  [ 1200/15785]  eta: 1:25:07  lr: 0.005000  loss: 0.4512 (0.5377)  loss_classifier: 0.2122 (0.2101)  loss_box_reg: 0.1077 (0.1262)  loss_objectness: 0.0291 (0.0374)  loss_rpn_box_reg: 0.1132 (0.1640)  time: 0.3548  data: 0.0045  max mem: 5353\n",
      "Epoch: [0]  [ 1250/15785]  eta: 1:24:49  lr: 0.005000  loss: 0.4718 (0.5374)  loss_classifier: 0.1852 (0.2099)  loss_box_reg: 0.1080 (0.1259)  loss_objectness: 0.0321 (0.0377)  loss_rpn_box_reg: 0.1321 (0.1638)  time: 0.3436  data: 0.0044  max mem: 5353\n",
      "Epoch: [0]  [ 1300/15785]  eta: 1:24:31  lr: 0.005000  loss: 0.6168 (0.5401)  loss_classifier: 0.2601 (0.2110)  loss_box_reg: 0.1751 (0.1267)  loss_objectness: 0.0258 (0.0380)  loss_rpn_box_reg: 0.1789 (0.1644)  time: 0.3554  data: 0.0043  max mem: 5353\n",
      "Epoch: [0]  [ 1350/15785]  eta: 1:24:11  lr: 0.005000  loss: 0.4857 (0.5376)  loss_classifier: 0.1759 (0.2102)  loss_box_reg: 0.1121 (0.1263)  loss_objectness: 0.0203 (0.0382)  loss_rpn_box_reg: 0.1037 (0.1628)  time: 0.3455  data: 0.0044  max mem: 5353\n",
      "Epoch: [0]  [ 1400/15785]  eta: 1:23:53  lr: 0.005000  loss: 0.4939 (0.5385)  loss_classifier: 0.1576 (0.2106)  loss_box_reg: 0.1057 (0.1263)  loss_objectness: 0.0427 (0.0387)  loss_rpn_box_reg: 0.1746 (0.1628)  time: 0.3501  data: 0.0045  max mem: 5353\n",
      "Epoch: [0]  [ 1450/15785]  eta: 1:23:36  lr: 0.005000  loss: 0.5896 (0.5400)  loss_classifier: 0.2044 (0.2111)  loss_box_reg: 0.1157 (0.1267)  loss_objectness: 0.0355 (0.0390)  loss_rpn_box_reg: 0.2047 (0.1632)  time: 0.3485  data: 0.0045  max mem: 5353\n",
      "Epoch: [0]  [ 1500/15785]  eta: 1:23:19  lr: 0.005000  loss: 0.3903 (0.5387)  loss_classifier: 0.1473 (0.2106)  loss_box_reg: 0.0931 (0.1263)  loss_objectness: 0.0308 (0.0393)  loss_rpn_box_reg: 0.0655 (0.1625)  time: 0.3458  data: 0.0046  max mem: 5353\n",
      "Epoch: [0]  [ 1550/15785]  eta: 1:23:01  lr: 0.005000  loss: 0.5741 (0.5393)  loss_classifier: 0.2354 (0.2112)  loss_box_reg: 0.1232 (0.1267)  loss_objectness: 0.0306 (0.0392)  loss_rpn_box_reg: 0.1299 (0.1622)  time: 0.3495  data: 0.0046  max mem: 5353\n",
      "Epoch: [0]  [ 1600/15785]  eta: 1:22:44  lr: 0.005000  loss: 0.6160 (0.5410)  loss_classifier: 0.2524 (0.2120)  loss_box_reg: 0.1359 (0.1269)  loss_objectness: 0.0296 (0.0393)  loss_rpn_box_reg: 0.1694 (0.1628)  time: 0.3509  data: 0.0045  max mem: 5353\n"
     ]
    },
    {
     "name": "stdout",
     "output_type": "stream",
     "text": [
      "Epoch: [0]  [ 1650/15785]  eta: 1:22:26  lr: 0.005000  loss: 0.5643 (0.5414)  loss_classifier: 0.2038 (0.2121)  loss_box_reg: 0.1216 (0.1271)  loss_objectness: 0.0289 (0.0394)  loss_rpn_box_reg: 0.1337 (0.1628)  time: 0.3493  data: 0.0045  max mem: 5353\n",
      "Epoch: [0]  [ 1700/15785]  eta: 1:22:08  lr: 0.005000  loss: 0.3973 (0.5426)  loss_classifier: 0.1510 (0.2125)  loss_box_reg: 0.0963 (0.1274)  loss_objectness: 0.0301 (0.0399)  loss_rpn_box_reg: 0.0593 (0.1629)  time: 0.3526  data: 0.0046  max mem: 5353\n",
      "Epoch: [0]  [ 1750/15785]  eta: 1:21:51  lr: 0.005000  loss: 0.4874 (0.5434)  loss_classifier: 0.1955 (0.2126)  loss_box_reg: 0.1138 (0.1276)  loss_objectness: 0.0266 (0.0398)  loss_rpn_box_reg: 0.1453 (0.1633)  time: 0.3521  data: 0.0045  max mem: 5353\n",
      "Epoch: [0]  [ 1800/15785]  eta: 1:21:37  lr: 0.005000  loss: 0.4661 (0.5419)  loss_classifier: 0.2027 (0.2122)  loss_box_reg: 0.1131 (0.1274)  loss_objectness: 0.0389 (0.0400)  loss_rpn_box_reg: 0.1131 (0.1623)  time: 0.3484  data: 0.0048  max mem: 5353\n",
      "Epoch: [0]  [ 1850/15785]  eta: 1:21:22  lr: 0.005000  loss: 0.5397 (0.5426)  loss_classifier: 0.1990 (0.2122)  loss_box_reg: 0.1249 (0.1272)  loss_objectness: 0.0361 (0.0403)  loss_rpn_box_reg: 0.1473 (0.1628)  time: 0.3659  data: 0.0048  max mem: 5353\n",
      "Epoch: [0]  [ 1900/15785]  eta: 1:21:07  lr: 0.005000  loss: 0.4543 (0.5422)  loss_classifier: 0.1856 (0.2119)  loss_box_reg: 0.1243 (0.1269)  loss_objectness: 0.0337 (0.0404)  loss_rpn_box_reg: 0.1364 (0.1630)  time: 0.3495  data: 0.0046  max mem: 5353\n",
      "Epoch: [0]  [ 1950/15785]  eta: 1:20:52  lr: 0.005000  loss: 0.6037 (0.5438)  loss_classifier: 0.2421 (0.2126)  loss_box_reg: 0.1409 (0.1271)  loss_objectness: 0.0439 (0.0406)  loss_rpn_box_reg: 0.1534 (0.1635)  time: 0.3474  data: 0.0046  max mem: 5353\n",
      "Epoch: [0]  [ 2000/15785]  eta: 1:20:39  lr: 0.005000  loss: 0.4538 (0.5430)  loss_classifier: 0.1911 (0.2122)  loss_box_reg: 0.1171 (0.1272)  loss_objectness: 0.0306 (0.0406)  loss_rpn_box_reg: 0.0651 (0.1630)  time: 0.3602  data: 0.0046  max mem: 5353\n",
      "Epoch: [0]  [ 2050/15785]  eta: 1:20:21  lr: 0.005000  loss: 0.6125 (0.5442)  loss_classifier: 0.2209 (0.2126)  loss_box_reg: 0.1207 (0.1274)  loss_objectness: 0.0427 (0.0407)  loss_rpn_box_reg: 0.1487 (0.1634)  time: 0.3486  data: 0.0046  max mem: 5353\n",
      "Epoch: [0]  [ 2100/15785]  eta: 1:20:06  lr: 0.005000  loss: 0.6088 (0.5455)  loss_classifier: 0.2563 (0.2129)  loss_box_reg: 0.1400 (0.1276)  loss_objectness: 0.0446 (0.0408)  loss_rpn_box_reg: 0.1532 (0.1642)  time: 0.3599  data: 0.0047  max mem: 5353\n",
      "Epoch: [0]  [ 2150/15785]  eta: 1:19:50  lr: 0.005000  loss: 0.6776 (0.5473)  loss_classifier: 0.2852 (0.2135)  loss_box_reg: 0.1472 (0.1278)  loss_objectness: 0.0445 (0.0412)  loss_rpn_box_reg: 0.1940 (0.1648)  time: 0.3568  data: 0.0046  max mem: 5353\n",
      "Epoch: [0]  [ 2200/15785]  eta: 1:19:38  lr: 0.005000  loss: 0.4728 (0.5484)  loss_classifier: 0.1837 (0.2139)  loss_box_reg: 0.1081 (0.1279)  loss_objectness: 0.0296 (0.0415)  loss_rpn_box_reg: 0.1414 (0.1652)  time: 0.3734  data: 0.0046  max mem: 5353\n",
      "Epoch: [0]  [ 2250/15785]  eta: 1:19:24  lr: 0.005000  loss: 0.5326 (0.5484)  loss_classifier: 0.1891 (0.2139)  loss_box_reg: 0.1171 (0.1278)  loss_objectness: 0.0304 (0.0416)  loss_rpn_box_reg: 0.0870 (0.1651)  time: 0.3552  data: 0.0046  max mem: 5353\n",
      "Epoch: [0]  [ 2300/15785]  eta: 1:19:09  lr: 0.005000  loss: 0.4731 (0.5497)  loss_classifier: 0.1812 (0.2143)  loss_box_reg: 0.1089 (0.1281)  loss_objectness: 0.0381 (0.0418)  loss_rpn_box_reg: 0.1481 (0.1655)  time: 0.3636  data: 0.0046  max mem: 5353\n",
      "Epoch: [0]  [ 2350/15785]  eta: 1:18:52  lr: 0.005000  loss: 0.4242 (0.5479)  loss_classifier: 0.1714 (0.2136)  loss_box_reg: 0.0926 (0.1277)  loss_objectness: 0.0234 (0.0417)  loss_rpn_box_reg: 0.1148 (0.1650)  time: 0.3536  data: 0.0047  max mem: 5353\n",
      "Epoch: [0]  [ 2400/15785]  eta: 1:18:35  lr: 0.005000  loss: 0.3586 (0.5460)  loss_classifier: 0.1389 (0.2128)  loss_box_reg: 0.0925 (0.1272)  loss_objectness: 0.0293 (0.0415)  loss_rpn_box_reg: 0.1085 (0.1645)  time: 0.3537  data: 0.0047  max mem: 5353\n",
      "Epoch: [0]  [ 2450/15785]  eta: 1:18:20  lr: 0.005000  loss: 0.4852 (0.5466)  loss_classifier: 0.1992 (0.2130)  loss_box_reg: 0.1203 (0.1272)  loss_objectness: 0.0302 (0.0416)  loss_rpn_box_reg: 0.0893 (0.1648)  time: 0.3673  data: 0.0046  max mem: 5353\n",
      "Epoch: [0]  [ 2500/15785]  eta: 1:18:05  lr: 0.005000  loss: 0.4996 (0.5468)  loss_classifier: 0.1881 (0.2130)  loss_box_reg: 0.1101 (0.1273)  loss_objectness: 0.0276 (0.0416)  loss_rpn_box_reg: 0.1535 (0.1649)  time: 0.3685  data: 0.0047  max mem: 5353\n",
      "Epoch: [0]  [ 2550/15785]  eta: 1:17:50  lr: 0.005000  loss: 0.6759 (0.5480)  loss_classifier: 0.2419 (0.2134)  loss_box_reg: 0.1610 (0.1274)  loss_objectness: 0.0381 (0.0416)  loss_rpn_box_reg: 0.1692 (0.1656)  time: 0.3657  data: 0.0047  max mem: 5353\n",
      "Epoch: [0]  [ 2600/15785]  eta: 1:17:34  lr: 0.005000  loss: 0.3715 (0.5471)  loss_classifier: 0.1860 (0.2130)  loss_box_reg: 0.1088 (0.1272)  loss_objectness: 0.0380 (0.0416)  loss_rpn_box_reg: 0.0841 (0.1652)  time: 0.3621  data: 0.0047  max mem: 5353\n",
      "Epoch: [0]  [ 2650/15785]  eta: 1:17:19  lr: 0.005000  loss: 0.7337 (0.5486)  loss_classifier: 0.2683 (0.2138)  loss_box_reg: 0.1717 (0.1276)  loss_objectness: 0.0366 (0.0416)  loss_rpn_box_reg: 0.2281 (0.1656)  time: 0.3672  data: 0.0049  max mem: 5353\n",
      "Epoch: [0]  [ 2700/15785]  eta: 1:17:02  lr: 0.005000  loss: 0.4961 (0.5492)  loss_classifier: 0.1809 (0.2143)  loss_box_reg: 0.1103 (0.1277)  loss_objectness: 0.0273 (0.0416)  loss_rpn_box_reg: 0.1406 (0.1657)  time: 0.3516  data: 0.0046  max mem: 5353\n",
      "Epoch: [0]  [ 2750/15785]  eta: 1:16:46  lr: 0.005000  loss: 0.5626 (0.5499)  loss_classifier: 0.2017 (0.2146)  loss_box_reg: 0.1413 (0.1280)  loss_objectness: 0.0390 (0.0415)  loss_rpn_box_reg: 0.1333 (0.1657)  time: 0.3573  data: 0.0047  max mem: 5353\n",
      "Epoch: [0]  [ 2800/15785]  eta: 1:16:30  lr: 0.005000  loss: 0.5644 (0.5506)  loss_classifier: 0.2245 (0.2151)  loss_box_reg: 0.1288 (0.1284)  loss_objectness: 0.0270 (0.0414)  loss_rpn_box_reg: 0.1615 (0.1657)  time: 0.3637  data: 0.0048  max mem: 5353\n",
      "Epoch: [0]  [ 2850/15785]  eta: 1:16:14  lr: 0.005000  loss: 0.5107 (0.5500)  loss_classifier: 0.2047 (0.2148)  loss_box_reg: 0.1225 (0.1283)  loss_objectness: 0.0235 (0.0412)  loss_rpn_box_reg: 0.1544 (0.1657)  time: 0.3611  data: 0.0047  max mem: 5353\n",
      "Epoch: [0]  [ 2900/15785]  eta: 1:15:57  lr: 0.005000  loss: 0.5954 (0.5512)  loss_classifier: 0.2411 (0.2151)  loss_box_reg: 0.1339 (0.1285)  loss_objectness: 0.0351 (0.0412)  loss_rpn_box_reg: 0.1933 (0.1665)  time: 0.3550  data: 0.0048  max mem: 5353\n",
      "Epoch: [0]  [ 2950/15785]  eta: 1:15:40  lr: 0.005000  loss: 0.6147 (0.5516)  loss_classifier: 0.2352 (0.2153)  loss_box_reg: 0.1231 (0.1284)  loss_objectness: 0.0366 (0.0413)  loss_rpn_box_reg: 0.2131 (0.1666)  time: 0.3623  data: 0.0048  max mem: 5353\n",
      "Epoch: [0]  [ 3000/15785]  eta: 1:15:23  lr: 0.005000  loss: 0.5732 (0.5514)  loss_classifier: 0.2003 (0.2152)  loss_box_reg: 0.1339 (0.1284)  loss_objectness: 0.0339 (0.0414)  loss_rpn_box_reg: 0.1973 (0.1665)  time: 0.3524  data: 0.0046  max mem: 5353\n",
      "Epoch: [0]  [ 3050/15785]  eta: 1:15:07  lr: 0.005000  loss: 0.3980 (0.5515)  loss_classifier: 0.1292 (0.2152)  loss_box_reg: 0.1010 (0.1284)  loss_objectness: 0.0231 (0.0413)  loss_rpn_box_reg: 0.1119 (0.1666)  time: 0.3635  data: 0.0045  max mem: 5353\n",
      "Epoch: [0]  [ 3100/15785]  eta: 1:14:51  lr: 0.005000  loss: 0.4437 (0.5515)  loss_classifier: 0.2039 (0.2151)  loss_box_reg: 0.1160 (0.1283)  loss_objectness: 0.0318 (0.0415)  loss_rpn_box_reg: 0.1319 (0.1666)  time: 0.3548  data: 0.0046  max mem: 5353\n",
      "Epoch: [0]  [ 3150/15785]  eta: 1:14:34  lr: 0.005000  loss: 0.5024 (0.5512)  loss_classifier: 0.1567 (0.2149)  loss_box_reg: 0.1070 (0.1282)  loss_objectness: 0.0301 (0.0419)  loss_rpn_box_reg: 0.1511 (0.1663)  time: 0.3567  data: 0.0047  max mem: 5353\n",
      "Epoch: [0]  [ 3200/15785]  eta: 1:14:18  lr: 0.005000  loss: 0.4509 (0.5512)  loss_classifier: 0.1675 (0.2147)  loss_box_reg: 0.1112 (0.1282)  loss_objectness: 0.0239 (0.0421)  loss_rpn_box_reg: 0.1606 (0.1663)  time: 0.3590  data: 0.0045  max mem: 5353\n",
      "Epoch: [0]  [ 3250/15785]  eta: 1:14:02  lr: 0.005000  loss: 0.5907 (0.5527)  loss_classifier: 0.2336 (0.2154)  loss_box_reg: 0.1277 (0.1286)  loss_objectness: 0.0305 (0.0421)  loss_rpn_box_reg: 0.1914 (0.1667)  time: 0.3677  data: 0.0048  max mem: 5353\n"
     ]
    },
    {
     "name": "stdout",
     "output_type": "stream",
     "text": [
      "Epoch: [0]  [ 3300/15785]  eta: 1:13:44  lr: 0.005000  loss: 0.6206 (0.5535)  loss_classifier: 0.2538 (0.2158)  loss_box_reg: 0.1466 (0.1288)  loss_objectness: 0.0371 (0.0421)  loss_rpn_box_reg: 0.1857 (0.1668)  time: 0.3502  data: 0.0046  max mem: 5353\n",
      "Epoch: [0]  [ 3350/15785]  eta: 1:13:26  lr: 0.005000  loss: 0.4270 (0.5532)  loss_classifier: 0.1482 (0.2157)  loss_box_reg: 0.1190 (0.1287)  loss_objectness: 0.0421 (0.0422)  loss_rpn_box_reg: 0.0785 (0.1666)  time: 0.3540  data: 0.0045  max mem: 5353\n",
      "Epoch: [0]  [ 3400/15785]  eta: 1:13:08  lr: 0.005000  loss: 0.5413 (0.5541)  loss_classifier: 0.1955 (0.2160)  loss_box_reg: 0.1244 (0.1288)  loss_objectness: 0.0303 (0.0421)  loss_rpn_box_reg: 0.1601 (0.1672)  time: 0.3483  data: 0.0047  max mem: 5353\n",
      "Epoch: [0]  [ 3450/15785]  eta: 1:12:50  lr: 0.005000  loss: 0.5979 (0.5543)  loss_classifier: 0.2320 (0.2161)  loss_box_reg: 0.1352 (0.1288)  loss_objectness: 0.0287 (0.0420)  loss_rpn_box_reg: 0.2166 (0.1673)  time: 0.3527  data: 0.0047  max mem: 5353\n",
      "Epoch: [0]  [ 3500/15785]  eta: 1:12:35  lr: 0.005000  loss: 0.4438 (0.5540)  loss_classifier: 0.1941 (0.2161)  loss_box_reg: 0.1275 (0.1288)  loss_objectness: 0.0290 (0.0420)  loss_rpn_box_reg: 0.0821 (0.1672)  time: 0.3775  data: 0.0048  max mem: 5353\n",
      "Epoch: [0]  [ 3550/15785]  eta: 1:12:17  lr: 0.005000  loss: 0.5482 (0.5539)  loss_classifier: 0.1935 (0.2160)  loss_box_reg: 0.1257 (0.1287)  loss_objectness: 0.0346 (0.0420)  loss_rpn_box_reg: 0.1362 (0.1672)  time: 0.3463  data: 0.0046  max mem: 5353\n",
      "Epoch: [0]  [ 3600/15785]  eta: 1:12:02  lr: 0.005000  loss: 0.6300 (0.5538)  loss_classifier: 0.2391 (0.2160)  loss_box_reg: 0.1710 (0.1288)  loss_objectness: 0.0442 (0.0420)  loss_rpn_box_reg: 0.1674 (0.1669)  time: 0.3636  data: 0.0047  max mem: 5353\n",
      "Epoch: [0]  [ 3650/15785]  eta: 1:11:44  lr: 0.005000  loss: 0.4761 (0.5536)  loss_classifier: 0.2084 (0.2160)  loss_box_reg: 0.1359 (0.1289)  loss_objectness: 0.0316 (0.0420)  loss_rpn_box_reg: 0.0915 (0.1668)  time: 0.3534  data: 0.0046  max mem: 5353\n",
      "Epoch: [0]  [ 3700/15785]  eta: 1:11:26  lr: 0.005000  loss: 0.5808 (0.5535)  loss_classifier: 0.2078 (0.2160)  loss_box_reg: 0.1346 (0.1288)  loss_objectness: 0.0370 (0.0420)  loss_rpn_box_reg: 0.1661 (0.1667)  time: 0.3508  data: 0.0046  max mem: 5353\n",
      "Epoch: [0]  [ 3750/15785]  eta: 1:11:08  lr: 0.005000  loss: 0.5133 (0.5538)  loss_classifier: 0.1981 (0.2159)  loss_box_reg: 0.1210 (0.1288)  loss_objectness: 0.0483 (0.0422)  loss_rpn_box_reg: 0.1335 (0.1668)  time: 0.3583  data: 0.0046  max mem: 5353\n",
      "Epoch: [0]  [ 3800/15785]  eta: 1:10:50  lr: 0.005000  loss: 0.5388 (0.5545)  loss_classifier: 0.1947 (0.2160)  loss_box_reg: 0.1282 (0.1289)  loss_objectness: 0.0451 (0.0422)  loss_rpn_box_reg: 0.1744 (0.1674)  time: 0.3584  data: 0.0046  max mem: 5353\n",
      "Epoch: [0]  [ 3850/15785]  eta: 1:10:36  lr: 0.005000  loss: 0.3386 (0.5535)  loss_classifier: 0.1345 (0.2157)  loss_box_reg: 0.0863 (0.1288)  loss_objectness: 0.0192 (0.0422)  loss_rpn_box_reg: 0.1172 (0.1669)  time: 0.3752  data: 0.0047  max mem: 5353\n",
      "Epoch: [0]  [ 3900/15785]  eta: 1:10:21  lr: 0.005000  loss: 0.4474 (0.5537)  loss_classifier: 0.2120 (0.2159)  loss_box_reg: 0.1206 (0.1288)  loss_objectness: 0.0436 (0.0422)  loss_rpn_box_reg: 0.0660 (0.1668)  time: 0.3798  data: 0.0047  max mem: 5353\n",
      "Epoch: [0]  [ 3950/15785]  eta: 1:10:07  lr: 0.005000  loss: 0.5799 (0.5538)  loss_classifier: 0.1984 (0.2159)  loss_box_reg: 0.1487 (0.1289)  loss_objectness: 0.0414 (0.0423)  loss_rpn_box_reg: 0.1706 (0.1666)  time: 0.3822  data: 0.0048  max mem: 5353\n",
      "Epoch: [0]  [ 4000/15785]  eta: 1:09:54  lr: 0.005000  loss: 0.5274 (0.5538)  loss_classifier: 0.2266 (0.2161)  loss_box_reg: 0.1440 (0.1289)  loss_objectness: 0.0374 (0.0424)  loss_rpn_box_reg: 0.1552 (0.1664)  time: 0.3855  data: 0.0047  max mem: 5353\n",
      "Epoch: [0]  [ 4050/15785]  eta: 1:09:40  lr: 0.005000  loss: 0.5808 (0.5537)  loss_classifier: 0.2297 (0.2161)  loss_box_reg: 0.1473 (0.1290)  loss_objectness: 0.0422 (0.0425)  loss_rpn_box_reg: 0.1417 (0.1662)  time: 0.3842  data: 0.0048  max mem: 5353\n",
      "Epoch: [0]  [ 4100/15785]  eta: 1:09:26  lr: 0.005000  loss: 0.5702 (0.5533)  loss_classifier: 0.2052 (0.2159)  loss_box_reg: 0.1088 (0.1289)  loss_objectness: 0.0324 (0.0425)  loss_rpn_box_reg: 0.1250 (0.1660)  time: 0.3797  data: 0.0047  max mem: 5353\n",
      "Epoch: [0]  [ 4150/15785]  eta: 1:09:11  lr: 0.005000  loss: 0.4819 (0.5527)  loss_classifier: 0.2176 (0.2158)  loss_box_reg: 0.1215 (0.1289)  loss_objectness: 0.0267 (0.0424)  loss_rpn_box_reg: 0.0852 (0.1657)  time: 0.3815  data: 0.0049  max mem: 5353\n",
      "Epoch: [0]  [ 4200/15785]  eta: 1:08:57  lr: 0.005000  loss: 0.4090 (0.5524)  loss_classifier: 0.1812 (0.2156)  loss_box_reg: 0.1098 (0.1288)  loss_objectness: 0.0258 (0.0423)  loss_rpn_box_reg: 0.0938 (0.1657)  time: 0.3758  data: 0.0045  max mem: 5353\n",
      "Epoch: [0]  [ 4250/15785]  eta: 1:08:42  lr: 0.005000  loss: 0.6211 (0.5518)  loss_classifier: 0.2132 (0.2154)  loss_box_reg: 0.1305 (0.1287)  loss_objectness: 0.0395 (0.0423)  loss_rpn_box_reg: 0.1803 (0.1655)  time: 0.3801  data: 0.0047  max mem: 5353\n",
      "Epoch: [0]  [ 4300/15785]  eta: 1:08:26  lr: 0.005000  loss: 0.3347 (0.5517)  loss_classifier: 0.1691 (0.2154)  loss_box_reg: 0.0952 (0.1287)  loss_objectness: 0.0242 (0.0423)  loss_rpn_box_reg: 0.1017 (0.1653)  time: 0.3715  data: 0.0045  max mem: 5353\n",
      "Epoch: [0]  [ 4350/15785]  eta: 1:08:11  lr: 0.005000  loss: 0.6467 (0.5521)  loss_classifier: 0.2816 (0.2155)  loss_box_reg: 0.1353 (0.1287)  loss_objectness: 0.0451 (0.0424)  loss_rpn_box_reg: 0.1235 (0.1654)  time: 0.3828  data: 0.0048  max mem: 5353\n",
      "Epoch: [0]  [ 4400/15785]  eta: 1:07:55  lr: 0.005000  loss: 0.4993 (0.5521)  loss_classifier: 0.2341 (0.2155)  loss_box_reg: 0.1237 (0.1287)  loss_objectness: 0.0323 (0.0424)  loss_rpn_box_reg: 0.1240 (0.1654)  time: 0.3697  data: 0.0048  max mem: 5372\n",
      "Epoch: [0]  [ 4450/15785]  eta: 1:07:39  lr: 0.005000  loss: 0.5984 (0.5533)  loss_classifier: 0.2555 (0.2160)  loss_box_reg: 0.1494 (0.1289)  loss_objectness: 0.0337 (0.0424)  loss_rpn_box_reg: 0.1755 (0.1659)  time: 0.3681  data: 0.0046  max mem: 5372\n",
      "Epoch: [0]  [ 4500/15785]  eta: 1:07:22  lr: 0.005000  loss: 0.4380 (0.5527)  loss_classifier: 0.1753 (0.2158)  loss_box_reg: 0.1012 (0.1288)  loss_objectness: 0.0327 (0.0424)  loss_rpn_box_reg: 0.1066 (0.1657)  time: 0.3775  data: 0.0047  max mem: 5372\n",
      "Epoch: [0]  [ 4550/15785]  eta: 1:07:04  lr: 0.005000  loss: 0.7555 (0.5539)  loss_classifier: 0.2155 (0.2161)  loss_box_reg: 0.1443 (0.1290)  loss_objectness: 0.0391 (0.0425)  loss_rpn_box_reg: 0.2114 (0.1664)  time: 0.3495  data: 0.0046  max mem: 5372\n",
      "Epoch: [0]  [ 4600/15785]  eta: 1:06:45  lr: 0.005000  loss: 0.4716 (0.5540)  loss_classifier: 0.2019 (0.2163)  loss_box_reg: 0.1243 (0.1291)  loss_objectness: 0.0310 (0.0425)  loss_rpn_box_reg: 0.0963 (0.1661)  time: 0.3443  data: 0.0045  max mem: 5372\n",
      "Epoch: [0]  [ 4650/15785]  eta: 1:06:26  lr: 0.005000  loss: 0.6353 (0.5538)  loss_classifier: 0.1913 (0.2162)  loss_box_reg: 0.1140 (0.1290)  loss_objectness: 0.0445 (0.0425)  loss_rpn_box_reg: 0.2125 (0.1661)  time: 0.3472  data: 0.0044  max mem: 5372\n",
      "Epoch: [0]  [ 4700/15785]  eta: 1:06:07  lr: 0.005000  loss: 0.5463 (0.5546)  loss_classifier: 0.2022 (0.2163)  loss_box_reg: 0.1263 (0.1292)  loss_objectness: 0.0265 (0.0425)  loss_rpn_box_reg: 0.2389 (0.1667)  time: 0.3532  data: 0.0047  max mem: 5372\n",
      "Epoch: [0]  [ 4750/15785]  eta: 1:05:47  lr: 0.005000  loss: 0.5237 (0.5543)  loss_classifier: 0.1902 (0.2162)  loss_box_reg: 0.1347 (0.1292)  loss_objectness: 0.0336 (0.0424)  loss_rpn_box_reg: 0.1266 (0.1665)  time: 0.3443  data: 0.0046  max mem: 5372\n",
      "Epoch: [0]  [ 4800/15785]  eta: 1:05:29  lr: 0.005000  loss: 0.5482 (0.5551)  loss_classifier: 0.2010 (0.2164)  loss_box_reg: 0.1181 (0.1293)  loss_objectness: 0.0430 (0.0424)  loss_rpn_box_reg: 0.1941 (0.1670)  time: 0.3480  data: 0.0047  max mem: 5372\n",
      "Epoch: [0]  [ 4850/15785]  eta: 1:05:10  lr: 0.005000  loss: 0.4457 (0.5549)  loss_classifier: 0.1934 (0.2163)  loss_box_reg: 0.0992 (0.1292)  loss_objectness: 0.0295 (0.0425)  loss_rpn_box_reg: 0.0932 (0.1669)  time: 0.3484  data: 0.0045  max mem: 5372\n",
      "Epoch: [0]  [ 4900/15785]  eta: 1:04:51  lr: 0.005000  loss: 0.5692 (0.5549)  loss_classifier: 0.2279 (0.2163)  loss_box_reg: 0.1410 (0.1292)  loss_objectness: 0.0319 (0.0425)  loss_rpn_box_reg: 0.1317 (0.1669)  time: 0.3531  data: 0.0046  max mem: 5372\n"
     ]
    },
    {
     "name": "stdout",
     "output_type": "stream",
     "text": [
      "Epoch: [0]  [ 4950/15785]  eta: 1:04:32  lr: 0.005000  loss: 0.4847 (0.5546)  loss_classifier: 0.1727 (0.2163)  loss_box_reg: 0.1008 (0.1291)  loss_objectness: 0.0323 (0.0425)  loss_rpn_box_reg: 0.0647 (0.1667)  time: 0.3487  data: 0.0046  max mem: 5372\n",
      "Epoch: [0]  [ 5000/15785]  eta: 1:04:13  lr: 0.005000  loss: 0.6031 (0.5549)  loss_classifier: 0.1807 (0.2163)  loss_box_reg: 0.1149 (0.1291)  loss_objectness: 0.0365 (0.0425)  loss_rpn_box_reg: 0.2400 (0.1670)  time: 0.3486  data: 0.0047  max mem: 5372\n",
      "Epoch: [0]  [ 5050/15785]  eta: 1:03:55  lr: 0.005000  loss: 0.4565 (0.5549)  loss_classifier: 0.1951 (0.2163)  loss_box_reg: 0.1193 (0.1291)  loss_objectness: 0.0313 (0.0425)  loss_rpn_box_reg: 0.1198 (0.1670)  time: 0.3434  data: 0.0045  max mem: 5372\n",
      "Epoch: [0]  [ 5100/15785]  eta: 1:03:35  lr: 0.005000  loss: 0.6184 (0.5553)  loss_classifier: 0.2213 (0.2165)  loss_box_reg: 0.1498 (0.1292)  loss_objectness: 0.0302 (0.0425)  loss_rpn_box_reg: 0.1535 (0.1671)  time: 0.3410  data: 0.0046  max mem: 5372\n",
      "Epoch: [0]  [ 5150/15785]  eta: 1:03:16  lr: 0.005000  loss: 0.3668 (0.5548)  loss_classifier: 0.2031 (0.2163)  loss_box_reg: 0.1135 (0.1291)  loss_objectness: 0.0319 (0.0425)  loss_rpn_box_reg: 0.0519 (0.1669)  time: 0.3480  data: 0.0047  max mem: 5372\n",
      "Epoch: [0]  [ 5200/15785]  eta: 1:02:57  lr: 0.005000  loss: 0.4379 (0.5548)  loss_classifier: 0.1844 (0.2163)  loss_box_reg: 0.1173 (0.1291)  loss_objectness: 0.0340 (0.0426)  loss_rpn_box_reg: 0.0715 (0.1668)  time: 0.3459  data: 0.0050  max mem: 5372\n",
      "Epoch: [0]  [ 5250/15785]  eta: 1:02:39  lr: 0.005000  loss: 0.5760 (0.5547)  loss_classifier: 0.2299 (0.2163)  loss_box_reg: 0.1158 (0.1290)  loss_objectness: 0.0300 (0.0426)  loss_rpn_box_reg: 0.1961 (0.1668)  time: 0.3548  data: 0.0049  max mem: 5372\n",
      "Epoch: [0]  [ 5300/15785]  eta: 1:02:20  lr: 0.005000  loss: 0.5372 (0.5549)  loss_classifier: 0.1981 (0.2164)  loss_box_reg: 0.1166 (0.1290)  loss_objectness: 0.0427 (0.0426)  loss_rpn_box_reg: 0.1572 (0.1669)  time: 0.3516  data: 0.0047  max mem: 5372\n",
      "Epoch: [0]  [ 5350/15785]  eta: 1:02:02  lr: 0.005000  loss: 0.5792 (0.5546)  loss_classifier: 0.1975 (0.2163)  loss_box_reg: 0.1368 (0.1290)  loss_objectness: 0.0319 (0.0425)  loss_rpn_box_reg: 0.1430 (0.1668)  time: 0.3457  data: 0.0047  max mem: 5372\n",
      "Epoch: [0]  [ 5400/15785]  eta: 1:01:43  lr: 0.005000  loss: 0.5795 (0.5548)  loss_classifier: 0.2077 (0.2165)  loss_box_reg: 0.1179 (0.1290)  loss_objectness: 0.0301 (0.0425)  loss_rpn_box_reg: 0.1839 (0.1669)  time: 0.3437  data: 0.0047  max mem: 5372\n",
      "Epoch: [0]  [ 5450/15785]  eta: 1:01:24  lr: 0.005000  loss: 0.5764 (0.5544)  loss_classifier: 0.1990 (0.2164)  loss_box_reg: 0.1183 (0.1289)  loss_objectness: 0.0209 (0.0424)  loss_rpn_box_reg: 0.1737 (0.1667)  time: 0.3460  data: 0.0045  max mem: 5372\n",
      "Epoch: [0]  [ 5500/15785]  eta: 1:01:05  lr: 0.005000  loss: 0.6006 (0.5549)  loss_classifier: 0.2184 (0.2166)  loss_box_reg: 0.1539 (0.1291)  loss_objectness: 0.0399 (0.0423)  loss_rpn_box_reg: 0.1908 (0.1669)  time: 0.3438  data: 0.0047  max mem: 5372\n",
      "Epoch: [0]  [ 5550/15785]  eta: 1:00:46  lr: 0.005000  loss: 0.6365 (0.5553)  loss_classifier: 0.1880 (0.2167)  loss_box_reg: 0.1303 (0.1292)  loss_objectness: 0.0333 (0.0424)  loss_rpn_box_reg: 0.1959 (0.1670)  time: 0.3456  data: 0.0047  max mem: 5372\n",
      "Epoch: [0]  [ 5600/15785]  eta: 1:00:27  lr: 0.005000  loss: 0.5684 (0.5553)  loss_classifier: 0.2094 (0.2167)  loss_box_reg: 0.1302 (0.1292)  loss_objectness: 0.0210 (0.0424)  loss_rpn_box_reg: 0.1893 (0.1671)  time: 0.3440  data: 0.0046  max mem: 5372\n",
      "Epoch: [0]  [ 5650/15785]  eta: 1:00:08  lr: 0.005000  loss: 0.5424 (0.5555)  loss_classifier: 0.2255 (0.2168)  loss_box_reg: 0.1332 (0.1292)  loss_objectness: 0.0281 (0.0424)  loss_rpn_box_reg: 0.1314 (0.1670)  time: 0.3495  data: 0.0046  max mem: 5372\n",
      "Epoch: [0]  [ 5700/15785]  eta: 0:59:50  lr: 0.005000  loss: 0.5286 (0.5556)  loss_classifier: 0.2034 (0.2169)  loss_box_reg: 0.1275 (0.1293)  loss_objectness: 0.0272 (0.0424)  loss_rpn_box_reg: 0.1499 (0.1671)  time: 0.3494  data: 0.0047  max mem: 5372\n",
      "Epoch: [0]  [ 5750/15785]  eta: 0:59:31  lr: 0.005000  loss: 0.5831 (0.5562)  loss_classifier: 0.2221 (0.2170)  loss_box_reg: 0.1616 (0.1294)  loss_objectness: 0.0513 (0.0426)  loss_rpn_box_reg: 0.1607 (0.1672)  time: 0.3477  data: 0.0047  max mem: 5372\n",
      "Epoch: [0]  [ 5800/15785]  eta: 0:59:13  lr: 0.005000  loss: 0.4526 (0.5558)  loss_classifier: 0.2094 (0.2169)  loss_box_reg: 0.0912 (0.1292)  loss_objectness: 0.0390 (0.0426)  loss_rpn_box_reg: 0.1076 (0.1670)  time: 0.3517  data: 0.0046  max mem: 5372\n",
      "Epoch: [0]  [ 5850/15785]  eta: 0:58:55  lr: 0.005000  loss: 0.5200 (0.5555)  loss_classifier: 0.2004 (0.2168)  loss_box_reg: 0.1186 (0.1292)  loss_objectness: 0.0244 (0.0425)  loss_rpn_box_reg: 0.1271 (0.1670)  time: 0.3525  data: 0.0047  max mem: 5372\n",
      "Epoch: [0]  [ 5900/15785]  eta: 0:58:37  lr: 0.005000  loss: 0.5310 (0.5552)  loss_classifier: 0.1653 (0.2167)  loss_box_reg: 0.1065 (0.1291)  loss_objectness: 0.0196 (0.0425)  loss_rpn_box_reg: 0.1523 (0.1669)  time: 0.3532  data: 0.0046  max mem: 5372\n",
      "Epoch: [0]  [ 5950/15785]  eta: 0:58:18  lr: 0.005000  loss: 0.5008 (0.5553)  loss_classifier: 0.2050 (0.2169)  loss_box_reg: 0.1392 (0.1292)  loss_objectness: 0.0326 (0.0424)  loss_rpn_box_reg: 0.0911 (0.1669)  time: 0.3496  data: 0.0047  max mem: 5372\n",
      "Epoch: [0]  [ 6000/15785]  eta: 0:58:00  lr: 0.005000  loss: 0.6220 (0.5555)  loss_classifier: 0.2517 (0.2170)  loss_box_reg: 0.1322 (0.1292)  loss_objectness: 0.0405 (0.0424)  loss_rpn_box_reg: 0.1811 (0.1669)  time: 0.3512  data: 0.0047  max mem: 5372\n",
      "Epoch: [0]  [ 6050/15785]  eta: 0:57:42  lr: 0.005000  loss: 0.4095 (0.5550)  loss_classifier: 0.1418 (0.2166)  loss_box_reg: 0.0881 (0.1290)  loss_objectness: 0.0322 (0.0425)  loss_rpn_box_reg: 0.1405 (0.1669)  time: 0.3508  data: 0.0046  max mem: 5372\n",
      "Epoch: [0]  [ 6100/15785]  eta: 0:57:23  lr: 0.005000  loss: 0.4087 (0.5547)  loss_classifier: 0.1926 (0.2165)  loss_box_reg: 0.1348 (0.1290)  loss_objectness: 0.0254 (0.0425)  loss_rpn_box_reg: 0.0679 (0.1666)  time: 0.3380  data: 0.0046  max mem: 5372\n",
      "Epoch: [0]  [ 6150/15785]  eta: 0:57:05  lr: 0.005000  loss: 0.4573 (0.5546)  loss_classifier: 0.1742 (0.2164)  loss_box_reg: 0.1111 (0.1290)  loss_objectness: 0.0244 (0.0425)  loss_rpn_box_reg: 0.1220 (0.1666)  time: 0.3470  data: 0.0046  max mem: 5372\n",
      "Epoch: [0]  [ 6200/15785]  eta: 0:56:46  lr: 0.005000  loss: 0.5913 (0.5550)  loss_classifier: 0.2856 (0.2167)  loss_box_reg: 0.1301 (0.1291)  loss_objectness: 0.0371 (0.0426)  loss_rpn_box_reg: 0.1988 (0.1667)  time: 0.3472  data: 0.0046  max mem: 5372\n",
      "Epoch: [0]  [ 6250/15785]  eta: 0:56:28  lr: 0.005000  loss: 0.6004 (0.5548)  loss_classifier: 0.2527 (0.2166)  loss_box_reg: 0.1511 (0.1290)  loss_objectness: 0.0268 (0.0425)  loss_rpn_box_reg: 0.1711 (0.1666)  time: 0.3514  data: 0.0047  max mem: 5372\n",
      "Epoch: [0]  [ 6300/15785]  eta: 0:56:09  lr: 0.005000  loss: 0.5851 (0.5549)  loss_classifier: 0.2201 (0.2166)  loss_box_reg: 0.1247 (0.1290)  loss_objectness: 0.0365 (0.0426)  loss_rpn_box_reg: 0.1635 (0.1667)  time: 0.3476  data: 0.0048  max mem: 5372\n",
      "Epoch: [0]  [ 6350/15785]  eta: 0:55:51  lr: 0.005000  loss: 0.5519 (0.5546)  loss_classifier: 0.2133 (0.2165)  loss_box_reg: 0.1201 (0.1289)  loss_objectness: 0.0296 (0.0426)  loss_rpn_box_reg: 0.1666 (0.1665)  time: 0.3483  data: 0.0046  max mem: 5372\n",
      "Epoch: [0]  [ 6400/15785]  eta: 0:55:33  lr: 0.005000  loss: 0.4887 (0.5549)  loss_classifier: 0.1945 (0.2166)  loss_box_reg: 0.1284 (0.1290)  loss_objectness: 0.0248 (0.0427)  loss_rpn_box_reg: 0.1645 (0.1667)  time: 0.3440  data: 0.0047  max mem: 5372\n",
      "Epoch: [0]  [ 6450/15785]  eta: 0:55:14  lr: 0.005000  loss: 0.6137 (0.5551)  loss_classifier: 0.2158 (0.2166)  loss_box_reg: 0.1348 (0.1290)  loss_objectness: 0.0334 (0.0427)  loss_rpn_box_reg: 0.1844 (0.1669)  time: 0.3459  data: 0.0046  max mem: 5372\n",
      "Epoch: [0]  [ 6500/15785]  eta: 0:54:55  lr: 0.005000  loss: 0.5129 (0.5549)  loss_classifier: 0.2072 (0.2165)  loss_box_reg: 0.1120 (0.1289)  loss_objectness: 0.0285 (0.0426)  loss_rpn_box_reg: 0.1552 (0.1668)  time: 0.3462  data: 0.0047  max mem: 5372\n",
      "Epoch: [0]  [ 6550/15785]  eta: 0:54:37  lr: 0.005000  loss: 0.5884 (0.5550)  loss_classifier: 0.2302 (0.2166)  loss_box_reg: 0.1438 (0.1290)  loss_objectness: 0.0371 (0.0427)  loss_rpn_box_reg: 0.1956 (0.1668)  time: 0.3476  data: 0.0046  max mem: 5372\n"
     ]
    },
    {
     "name": "stdout",
     "output_type": "stream",
     "text": [
      "Epoch: [0]  [ 6600/15785]  eta: 0:54:19  lr: 0.005000  loss: 0.3894 (0.5551)  loss_classifier: 0.1845 (0.2166)  loss_box_reg: 0.1218 (0.1290)  loss_objectness: 0.0290 (0.0426)  loss_rpn_box_reg: 0.0988 (0.1668)  time: 0.3455  data: 0.0047  max mem: 5372\n",
      "Epoch: [0]  [ 6650/15785]  eta: 0:54:01  lr: 0.005000  loss: 0.5505 (0.5550)  loss_classifier: 0.1802 (0.2166)  loss_box_reg: 0.1192 (0.1291)  loss_objectness: 0.0354 (0.0427)  loss_rpn_box_reg: 0.1762 (0.1667)  time: 0.3490  data: 0.0046  max mem: 5372\n",
      "Epoch: [0]  [ 6700/15785]  eta: 0:53:44  lr: 0.005000  loss: 0.4792 (0.5551)  loss_classifier: 0.2126 (0.2166)  loss_box_reg: 0.1185 (0.1291)  loss_objectness: 0.0304 (0.0426)  loss_rpn_box_reg: 0.1110 (0.1667)  time: 0.3694  data: 0.0048  max mem: 5372\n",
      "Epoch: [0]  [ 6750/15785]  eta: 0:53:26  lr: 0.005000  loss: 0.5768 (0.5553)  loss_classifier: 0.2240 (0.2167)  loss_box_reg: 0.1207 (0.1291)  loss_objectness: 0.0265 (0.0427)  loss_rpn_box_reg: 0.1253 (0.1669)  time: 0.3548  data: 0.0046  max mem: 5372\n",
      "Epoch: [0]  [ 6800/15785]  eta: 0:53:08  lr: 0.005000  loss: 0.5546 (0.5548)  loss_classifier: 0.1831 (0.2165)  loss_box_reg: 0.1212 (0.1290)  loss_objectness: 0.0276 (0.0427)  loss_rpn_box_reg: 0.1482 (0.1666)  time: 0.3472  data: 0.0048  max mem: 5372\n",
      "Epoch: [0]  [ 6850/15785]  eta: 0:52:50  lr: 0.005000  loss: 0.4701 (0.5549)  loss_classifier: 0.1826 (0.2165)  loss_box_reg: 0.1237 (0.1290)  loss_objectness: 0.0274 (0.0426)  loss_rpn_box_reg: 0.1922 (0.1667)  time: 0.3508  data: 0.0046  max mem: 5372\n",
      "Epoch: [0]  [ 6900/15785]  eta: 0:52:32  lr: 0.005000  loss: 0.5256 (0.5549)  loss_classifier: 0.2179 (0.2165)  loss_box_reg: 0.1405 (0.1290)  loss_objectness: 0.0248 (0.0426)  loss_rpn_box_reg: 0.1505 (0.1668)  time: 0.3527  data: 0.0047  max mem: 5372\n",
      "Epoch: [0]  [ 6950/15785]  eta: 0:52:14  lr: 0.005000  loss: 0.4504 (0.5543)  loss_classifier: 0.1770 (0.2163)  loss_box_reg: 0.1232 (0.1290)  loss_objectness: 0.0233 (0.0425)  loss_rpn_box_reg: 0.1587 (0.1666)  time: 0.3522  data: 0.0047  max mem: 5372\n",
      "Epoch: [0]  [ 7000/15785]  eta: 0:51:57  lr: 0.005000  loss: 0.5272 (0.5542)  loss_classifier: 0.1984 (0.2162)  loss_box_reg: 0.1115 (0.1289)  loss_objectness: 0.0347 (0.0426)  loss_rpn_box_reg: 0.1505 (0.1665)  time: 0.3616  data: 0.0047  max mem: 5372\n",
      "Epoch: [0]  [ 7050/15785]  eta: 0:51:39  lr: 0.005000  loss: 0.5591 (0.5545)  loss_classifier: 0.2705 (0.2164)  loss_box_reg: 0.1010 (0.1290)  loss_objectness: 0.0390 (0.0426)  loss_rpn_box_reg: 0.1331 (0.1664)  time: 0.3549  data: 0.0047  max mem: 5372\n",
      "Epoch: [0]  [ 7100/15785]  eta: 0:51:21  lr: 0.005000  loss: 0.4109 (0.5541)  loss_classifier: 0.1754 (0.2163)  loss_box_reg: 0.1101 (0.1290)  loss_objectness: 0.0217 (0.0426)  loss_rpn_box_reg: 0.0824 (0.1663)  time: 0.3504  data: 0.0047  max mem: 5372\n",
      "Epoch: [0]  [ 7150/15785]  eta: 0:51:03  lr: 0.005000  loss: 0.5563 (0.5539)  loss_classifier: 0.1840 (0.2162)  loss_box_reg: 0.1122 (0.1289)  loss_objectness: 0.0392 (0.0427)  loss_rpn_box_reg: 0.1520 (0.1661)  time: 0.3590  data: 0.0046  max mem: 5372\n",
      "Epoch: [0]  [ 7200/15785]  eta: 0:50:45  lr: 0.005000  loss: 0.6116 (0.5538)  loss_classifier: 0.2337 (0.2161)  loss_box_reg: 0.1387 (0.1289)  loss_objectness: 0.0369 (0.0428)  loss_rpn_box_reg: 0.1493 (0.1661)  time: 0.3536  data: 0.0047  max mem: 5372\n",
      "Epoch: [0]  [ 7250/15785]  eta: 0:50:29  lr: 0.005000  loss: 0.4405 (0.5541)  loss_classifier: 0.1956 (0.2162)  loss_box_reg: 0.1009 (0.1289)  loss_objectness: 0.0294 (0.0428)  loss_rpn_box_reg: 0.1161 (0.1662)  time: 0.3732  data: 0.0048  max mem: 5372\n",
      "Epoch: [0]  [ 7300/15785]  eta: 0:50:11  lr: 0.005000  loss: 0.5580 (0.5541)  loss_classifier: 0.2030 (0.2162)  loss_box_reg: 0.1372 (0.1290)  loss_objectness: 0.0268 (0.0428)  loss_rpn_box_reg: 0.1176 (0.1662)  time: 0.3490  data: 0.0047  max mem: 5372\n",
      "Epoch: [0]  [ 7350/15785]  eta: 0:49:53  lr: 0.005000  loss: 0.5630 (0.5542)  loss_classifier: 0.2441 (0.2163)  loss_box_reg: 0.1421 (0.1290)  loss_objectness: 0.0391 (0.0427)  loss_rpn_box_reg: 0.1608 (0.1661)  time: 0.3560  data: 0.0049  max mem: 5372\n",
      "Epoch: [0]  [ 7400/15785]  eta: 0:49:35  lr: 0.005000  loss: 0.4791 (0.5538)  loss_classifier: 0.1944 (0.2162)  loss_box_reg: 0.1254 (0.1290)  loss_objectness: 0.0392 (0.0427)  loss_rpn_box_reg: 0.1030 (0.1660)  time: 0.3510  data: 0.0046  max mem: 5372\n",
      "Epoch: [0]  [ 7450/15785]  eta: 0:49:17  lr: 0.005000  loss: 0.5347 (0.5535)  loss_classifier: 0.2016 (0.2160)  loss_box_reg: 0.1032 (0.1289)  loss_objectness: 0.0376 (0.0428)  loss_rpn_box_reg: 0.1149 (0.1659)  time: 0.3597  data: 0.0048  max mem: 5372\n",
      "Epoch: [0]  [ 7500/15785]  eta: 0:48:59  lr: 0.005000  loss: 0.5505 (0.5539)  loss_classifier: 0.2071 (0.2161)  loss_box_reg: 0.1096 (0.1289)  loss_objectness: 0.0349 (0.0428)  loss_rpn_box_reg: 0.1737 (0.1660)  time: 0.3541  data: 0.0047  max mem: 5372\n",
      "Epoch: [0]  [ 7550/15785]  eta: 0:48:41  lr: 0.005000  loss: 0.4654 (0.5537)  loss_classifier: 0.2030 (0.2161)  loss_box_reg: 0.1065 (0.1289)  loss_objectness: 0.0297 (0.0428)  loss_rpn_box_reg: 0.1054 (0.1658)  time: 0.3474  data: 0.0047  max mem: 5372\n",
      "Epoch: [0]  [ 7600/15785]  eta: 0:48:24  lr: 0.005000  loss: 0.5957 (0.5540)  loss_classifier: 0.1999 (0.2162)  loss_box_reg: 0.1447 (0.1290)  loss_objectness: 0.0405 (0.0428)  loss_rpn_box_reg: 0.2063 (0.1660)  time: 0.3505  data: 0.0047  max mem: 5372\n",
      "Epoch: [0]  [ 7650/15785]  eta: 0:48:06  lr: 0.005000  loss: 0.4730 (0.5536)  loss_classifier: 0.1949 (0.2161)  loss_box_reg: 0.1062 (0.1289)  loss_objectness: 0.0197 (0.0427)  loss_rpn_box_reg: 0.1098 (0.1658)  time: 0.3527  data: 0.0046  max mem: 5372\n",
      "Epoch: [0]  [ 7700/15785]  eta: 0:47:48  lr: 0.005000  loss: 0.5259 (0.5541)  loss_classifier: 0.2000 (0.2163)  loss_box_reg: 0.0921 (0.1290)  loss_objectness: 0.0311 (0.0428)  loss_rpn_box_reg: 0.1238 (0.1659)  time: 0.3494  data: 0.0046  max mem: 5372\n",
      "Epoch: [0]  [ 7750/15785]  eta: 0:47:30  lr: 0.005000  loss: 0.4307 (0.5542)  loss_classifier: 0.1720 (0.2164)  loss_box_reg: 0.1188 (0.1290)  loss_objectness: 0.0361 (0.0429)  loss_rpn_box_reg: 0.0416 (0.1659)  time: 0.3502  data: 0.0047  max mem: 5372\n",
      "Epoch: [0]  [ 7800/15785]  eta: 0:47:12  lr: 0.005000  loss: 0.5516 (0.5541)  loss_classifier: 0.1949 (0.2163)  loss_box_reg: 0.1030 (0.1290)  loss_objectness: 0.0375 (0.0429)  loss_rpn_box_reg: 0.1274 (0.1659)  time: 0.3516  data: 0.0045  max mem: 5372\n",
      "Epoch: [0]  [ 7850/15785]  eta: 0:46:54  lr: 0.005000  loss: 0.5829 (0.5542)  loss_classifier: 0.2215 (0.2163)  loss_box_reg: 0.1199 (0.1290)  loss_objectness: 0.0318 (0.0429)  loss_rpn_box_reg: 0.1637 (0.1659)  time: 0.3555  data: 0.0047  max mem: 5372\n",
      "Epoch: [0]  [ 7900/15785]  eta: 0:46:36  lr: 0.005000  loss: 0.5177 (0.5543)  loss_classifier: 0.2169 (0.2164)  loss_box_reg: 0.1439 (0.1290)  loss_objectness: 0.0484 (0.0430)  loss_rpn_box_reg: 0.1538 (0.1660)  time: 0.3535  data: 0.0046  max mem: 5372\n",
      "Epoch: [0]  [ 7950/15785]  eta: 0:46:19  lr: 0.005000  loss: 0.5265 (0.5544)  loss_classifier: 0.1796 (0.2163)  loss_box_reg: 0.1085 (0.1290)  loss_objectness: 0.0392 (0.0430)  loss_rpn_box_reg: 0.2002 (0.1661)  time: 0.3531  data: 0.0047  max mem: 5372\n",
      "Epoch: [0]  [ 8000/15785]  eta: 0:46:02  lr: 0.005000  loss: 0.5076 (0.5546)  loss_classifier: 0.2107 (0.2164)  loss_box_reg: 0.1317 (0.1290)  loss_objectness: 0.0343 (0.0431)  loss_rpn_box_reg: 0.1276 (0.1661)  time: 0.3651  data: 0.0049  max mem: 5372\n",
      "Epoch: [0]  [ 8050/15785]  eta: 0:45:44  lr: 0.005000  loss: 0.5736 (0.5546)  loss_classifier: 0.2322 (0.2163)  loss_box_reg: 0.1086 (0.1290)  loss_objectness: 0.0328 (0.0431)  loss_rpn_box_reg: 0.1490 (0.1661)  time: 0.3604  data: 0.0048  max mem: 5372\n",
      "Epoch: [0]  [ 8100/15785]  eta: 0:45:27  lr: 0.005000  loss: 0.5047 (0.5544)  loss_classifier: 0.2213 (0.2163)  loss_box_reg: 0.1532 (0.1290)  loss_objectness: 0.0327 (0.0431)  loss_rpn_box_reg: 0.1466 (0.1660)  time: 0.3600  data: 0.0051  max mem: 5372\n",
      "Epoch: [0]  [ 8150/15785]  eta: 0:45:09  lr: 0.005000  loss: 0.5226 (0.5545)  loss_classifier: 0.1957 (0.2163)  loss_box_reg: 0.1154 (0.1290)  loss_objectness: 0.0277 (0.0431)  loss_rpn_box_reg: 0.1897 (0.1661)  time: 0.3628  data: 0.0049  max mem: 5372\n",
      "Epoch: [0]  [ 8200/15785]  eta: 0:44:52  lr: 0.005000  loss: 0.5233 (0.5545)  loss_classifier: 0.1748 (0.2164)  loss_box_reg: 0.1202 (0.1289)  loss_objectness: 0.0324 (0.0431)  loss_rpn_box_reg: 0.1463 (0.1661)  time: 0.3550  data: 0.0047  max mem: 5372\n"
     ]
    },
    {
     "name": "stdout",
     "output_type": "stream",
     "text": [
      "Epoch: [0]  [ 8250/15785]  eta: 0:44:34  lr: 0.005000  loss: 0.5175 (0.5546)  loss_classifier: 0.1712 (0.2164)  loss_box_reg: 0.1130 (0.1289)  loss_objectness: 0.0366 (0.0432)  loss_rpn_box_reg: 0.1219 (0.1660)  time: 0.3539  data: 0.0047  max mem: 5372\n",
      "Epoch: [0]  [ 8300/15785]  eta: 0:44:17  lr: 0.005000  loss: 0.4285 (0.5548)  loss_classifier: 0.2025 (0.2165)  loss_box_reg: 0.1002 (0.1290)  loss_objectness: 0.0282 (0.0433)  loss_rpn_box_reg: 0.0808 (0.1660)  time: 0.3563  data: 0.0045  max mem: 5372\n",
      "Epoch: [0]  [ 8350/15785]  eta: 0:43:59  lr: 0.005000  loss: 0.5785 (0.5551)  loss_classifier: 0.2394 (0.2167)  loss_box_reg: 0.1348 (0.1291)  loss_objectness: 0.0337 (0.0433)  loss_rpn_box_reg: 0.1219 (0.1660)  time: 0.3526  data: 0.0042  max mem: 5372\n",
      "Epoch: [0]  [ 8400/15785]  eta: 0:43:41  lr: 0.005000  loss: 0.5175 (0.5551)  loss_classifier: 0.1821 (0.2168)  loss_box_reg: 0.1269 (0.1291)  loss_objectness: 0.0330 (0.0432)  loss_rpn_box_reg: 0.1088 (0.1660)  time: 0.3507  data: 0.0045  max mem: 5372\n",
      "Epoch: [0]  [ 8450/15785]  eta: 0:43:24  lr: 0.005000  loss: 0.5261 (0.5552)  loss_classifier: 0.1837 (0.2168)  loss_box_reg: 0.1118 (0.1292)  loss_objectness: 0.0357 (0.0433)  loss_rpn_box_reg: 0.1512 (0.1660)  time: 0.3482  data: 0.0043  max mem: 5372\n",
      "Epoch: [0]  [ 8500/15785]  eta: 0:43:06  lr: 0.005000  loss: 0.5901 (0.5552)  loss_classifier: 0.2269 (0.2169)  loss_box_reg: 0.1107 (0.1291)  loss_objectness: 0.0466 (0.0432)  loss_rpn_box_reg: 0.1973 (0.1660)  time: 0.3514  data: 0.0044  max mem: 5372\n",
      "Epoch: [0]  [ 8550/15785]  eta: 0:42:48  lr: 0.005000  loss: 0.4084 (0.5551)  loss_classifier: 0.2350 (0.2170)  loss_box_reg: 0.1089 (0.1291)  loss_objectness: 0.0252 (0.0432)  loss_rpn_box_reg: 0.1062 (0.1658)  time: 0.3574  data: 0.0044  max mem: 5372\n",
      "Epoch: [0]  [ 8600/15785]  eta: 0:42:30  lr: 0.005000  loss: 0.6337 (0.5551)  loss_classifier: 0.2290 (0.2170)  loss_box_reg: 0.1248 (0.1292)  loss_objectness: 0.0417 (0.0432)  loss_rpn_box_reg: 0.2011 (0.1658)  time: 0.3526  data: 0.0045  max mem: 5372\n",
      "Epoch: [0]  [ 8650/15785]  eta: 0:42:13  lr: 0.005000  loss: 0.5638 (0.5550)  loss_classifier: 0.2320 (0.2170)  loss_box_reg: 0.1515 (0.1291)  loss_objectness: 0.0300 (0.0431)  loss_rpn_box_reg: 0.1643 (0.1658)  time: 0.3549  data: 0.0043  max mem: 5372\n",
      "Epoch: [0]  [ 8700/15785]  eta: 0:41:55  lr: 0.005000  loss: 0.6134 (0.5551)  loss_classifier: 0.2580 (0.2170)  loss_box_reg: 0.1359 (0.1291)  loss_objectness: 0.0320 (0.0431)  loss_rpn_box_reg: 0.2151 (0.1659)  time: 0.3652  data: 0.0046  max mem: 5372\n",
      "Epoch: [0]  [ 8750/15785]  eta: 0:41:38  lr: 0.005000  loss: 0.4253 (0.5551)  loss_classifier: 0.1636 (0.2170)  loss_box_reg: 0.0908 (0.1291)  loss_objectness: 0.0389 (0.0431)  loss_rpn_box_reg: 0.1270 (0.1658)  time: 0.3669  data: 0.0047  max mem: 5372\n"
     ]
    }
   ],
   "source": [
    "## training begins\n",
    "num_epochs = 10\n",
    "for epoch in tqdm(range(num_epochs)):\n",
    "    train_one_epoch(model, optimizer, train_dl, device, epoch, print_freq=50)\n",
    "    lr_scheduler.step()"
   ]
  },
  {
   "cell_type": "code",
   "execution_count": null,
   "metadata": {},
   "outputs": [],
   "source": [
    "## torch model save\n",
    "torch.save({\n",
    "            'epoch': epoch,\n",
    "            'model_state_dict': model.state_dict(),\n",
    "            'optimizer_state_dict': optimizer.state_dict(),\n",
    "            }, NEW)"
   ]
  },
  {
   "cell_type": "code",
   "execution_count": null,
   "metadata": {},
   "outputs": [],
   "source": [
    "## torch load new model\n",
    "checkpoint = torch.load(NEW)\n",
    "model.load_state_dict(checkpoint['model_state_dict'])\n",
    "optimizer.load_state_dict(checkpoint['optimizer_state_dict'])\n",
    "epoch = checkpoint['epoch']"
   ]
  },
  {
   "cell_type": "code",
   "execution_count": null,
   "metadata": {},
   "outputs": [],
   "source": [
    "## validation example test\n",
    "val = Data(\"../csv/annotations_val.csv\", 'data/JPEGImages', get_transform(train=False))\n",
    "val_dl =  torch.utils.data.DataLoader(train, batch_size=2, shuffle=True, num_workers=4, collate_fn=utils.collate_fn)\n",
    "img, target = next(iter(train))\n",
    "print(target)"
   ]
  },
  {
   "cell_type": "code",
   "execution_count": null,
   "metadata": {},
   "outputs": [],
   "source": [
    "## predictions and plot\n",
    "preds = predict(model, img)\n",
    "plot(img, preds, 0, True)"
   ]
  }
 ],
 "metadata": {
  "kernelspec": {
   "display_name": "Python 3",
   "language": "python",
   "name": "python3"
  },
  "language_info": {
   "codemirror_mode": {
    "name": "ipython",
    "version": 3
   },
   "file_extension": ".py",
   "mimetype": "text/x-python",
   "name": "python",
   "nbconvert_exporter": "python",
   "pygments_lexer": "ipython3",
   "version": "3.6.8"
  }
 },
 "nbformat": 4,
 "nbformat_minor": 2
}
