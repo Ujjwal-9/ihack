{
 "cells": [
  {
   "cell_type": "code",
   "execution_count": null,
   "metadata": {},
   "outputs": [],
   "source": [
    "%matplotlib inline"
   ]
  },
  {
   "cell_type": "markdown",
   "metadata": {},
   "source": [
    "02. Predict with pre-trained Faster RCNN models\n",
    "==============================================\n",
    "\n",
    "This article shows how to play with pre-trained Faster RCNN model.\n",
    "\n",
    "First let's import some necessary libraries:\n"
   ]
  },
  {
   "cell_type": "code",
   "execution_count": null,
   "metadata": {},
   "outputs": [],
   "source": [
    "from matplotlib import pyplot as plt\n",
    "import gluoncv\n",
    "from gluoncv import model_zoo, data, utils"
   ]
  },
  {
   "cell_type": "markdown",
   "metadata": {},
   "source": [
    "Load a pretrained model\n",
    "-------------------------\n",
    "\n",
    "Let's get an Faster RCNN model trained on Pascal VOC\n",
    "dataset with ResNet-50 backbone. By specifying\n",
    "``pretrained=True``, it will automatically download the model from the model\n",
    "zoo if necessary. For more pretrained models, please refer to\n",
    ":doc:`../../model_zoo/index`.\n",
    "\n",
    "The returned model is a HybridBlock :py:class:`gluoncv.model_zoo.FasterRCNN`\n",
    "with a default context of `cpu(0)`.\n",
    "\n"
   ]
  },
  {
   "cell_type": "code",
   "execution_count": null,
   "metadata": {},
   "outputs": [],
   "source": [
    "net = model_zoo.get_model('faster_rcnn_resnet50_v1b_voc', pretrained=True)"
   ]
  },
  {
   "cell_type": "markdown",
   "metadata": {},
   "source": [
    "Pre-process an image\n",
    "--------------------\n",
    "\n",
    "Next we download an image, and pre-process with preset data transforms.\n",
    "The default behavior is to resize the short edge of the image to 600px.\n",
    "But you can feed an arbitrarily sized image.\n",
    "\n",
    "You can provide a list of image file names, such as ``[im_fname1, im_fname2,\n",
    "...]`` to :py:func:`gluoncv.data.transforms.presets.rcnn.load_test` if you\n",
    "want to load multiple image together.\n",
    "\n",
    "This function returns two results. The first is a NDArray with shape\n",
    "`(batch_size, RGB_channels, height, width)`. It can be fed into the\n",
    "model directly. The second one contains the images in numpy format to\n",
    "easy to be plotted. Since we only loaded a single image, the first dimension\n",
    "of `x` is 1.\n",
    "\n",
    "Please beware that `orig_img` is resized to short edge 600px.\n",
    "\n"
   ]
  },
  {
   "cell_type": "code",
   "execution_count": null,
   "metadata": {},
   "outputs": [],
   "source": [
    "im_fname = utils.download('https://github.com/dmlc/web-data/blob/master/' +\n",
    "                          'gluoncv/detection/biking.jpg?raw=true',\n",
    "                          path='biking.jpg')\n",
    "x, orig_img = data.transforms.presets.rcnn.load_test(im_fname)"
   ]
  },
  {
   "cell_type": "markdown",
   "metadata": {},
   "source": [
    "Inference and display\n",
    "---------------------\n",
    "\n",
    "The Faster RCNN model returns predicted class IDs, confidence scores,\n",
    "bounding boxes coordinates. Their shape are (batch_size, num_bboxes, 1),\n",
    "(batch_size, num_bboxes, 1) and (batch_size, num_bboxes, 4), respectively.\n",
    "\n",
    "We can use :py:func:`gluoncv.utils.viz.plot_bbox` to visualize the\n",
    "results. We slice the results for the first image and feed them into `plot_bbox`:\n",
    "\n"
   ]
  },
  {
   "cell_type": "code",
   "execution_count": null,
   "metadata": {},
   "outputs": [],
   "source": [
    "box_ids, scores, bboxes = net(x)\n",
    "ax = utils.viz.plot_bbox(orig_img, bboxes[0], scores[0], box_ids[0], class_names=net.classes)\n",
    "\n",
    "plt.show()"
   ]
  }
 ],
 "metadata": {
  "kernelspec": {
   "display_name": "Python 3",
   "language": "python",
   "name": "python3"
  },
  "language_info": {
   "codemirror_mode": {
    "name": "ipython",
    "version": 3
   },
   "file_extension": ".py",
   "mimetype": "text/x-python",
   "name": "python",
   "nbconvert_exporter": "python",
   "pygments_lexer": "ipython3",
   "version": "3.7.1"
  }
 },
 "nbformat": 4,
 "nbformat_minor": 1
}
