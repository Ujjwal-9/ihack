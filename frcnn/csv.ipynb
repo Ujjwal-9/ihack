{
 "cells": [
  {
   "cell_type": "code",
   "execution_count": 2,
   "metadata": {},
   "outputs": [],
   "source": [
    "import pandas as pd\n",
    "import xml.etree.ElementTree as ET\n",
    "import os\n",
    "from tqdm import tqdm"
   ]
  },
  {
   "cell_type": "code",
   "execution_count": 4,
   "metadata": {},
   "outputs": [],
   "source": [
    "img_path = './data/JPEGImages/'\n",
    "anno_path = './data/Annotations/'"
   ]
  },
  {
   "cell_type": "code",
   "execution_count": 3,
   "metadata": {},
   "outputs": [],
   "source": [
    "work = {'train':[], 'val':[], 'test':[]}\n",
    "for file in work.keys():\n",
    "    f = open('../data/'+file+'.txt', 'r')\n",
    "    for x in f:\n",
    "        work[file].append(x[:-1])\n",
    "    f.close()"
   ]
  },
  {
   "cell_type": "code",
   "execution_count": 4,
   "metadata": {},
   "outputs": [
    {
     "data": {
      "text/plain": [
       "'frontFar/BLR-2018-03-22_17-39-26_2_frontFar/000132_r'"
      ]
     },
     "execution_count": 4,
     "metadata": {},
     "output_type": "execute_result"
    }
   ],
   "source": [
    "work['train'][28]"
   ]
  },
  {
   "cell_type": "code",
   "execution_count": 5,
   "metadata": {},
   "outputs": [
    {
     "name": "stderr",
     "output_type": "stream",
     "text": [
      "100%|██████████| 31569/31569 [00:03<00:00, 9516.64it/s] \n",
      "100%|██████████| 10225/10225 [00:01<00:00, 8952.21it/s]\n"
     ]
    }
   ],
   "source": [
    "processing = {'train':[], 'val':[]}\n",
    "for t in processing.keys():\n",
    "    for f in tqdm(range(len(work[t]))):\n",
    "        img_file = os.path.join(img_path, work[t][f]+'.jpg')\n",
    "        tree = ET.parse(os.path.join(anno_path, work[t][f]+'.xml'))\n",
    "        root = tree.getroot()\n",
    "        for obj in root.iter('object'):\n",
    "            cls = obj.find('name').text\n",
    "            xmlbox = obj.find('bndbox')\n",
    "            bbox = (int(xmlbox.find('xmin').text), int(xmlbox.find('ymin').text), int(xmlbox.find('xmax').text),\n",
    "                    int(xmlbox.find('ymax').text))\n",
    "            l = [work[t][f]+'.jpg', str(bbox[0]), str(bbox[1]), str(bbox[2]), str(bbox[3]),cls]\n",
    "            processing[t].append(l)\n",
    "    \n",
    "annotations_train = pd.DataFrame(processing['train'], columns=['image', 'xmin', 'ymix', 'xmax', 'ymax', 'class'])\n",
    "annotations_val = pd.DataFrame(processing['val'], columns=['image', 'xmin', 'ymix', 'xmax', 'ymax', 'class'])\n",
    "del processing"
   ]
  },
  {
   "cell_type": "code",
   "execution_count": 6,
   "metadata": {},
   "outputs": [
    {
     "data": {
      "text/html": [
       "<div>\n",
       "<style scoped>\n",
       "    .dataframe tbody tr th:only-of-type {\n",
       "        vertical-align: middle;\n",
       "    }\n",
       "\n",
       "    .dataframe tbody tr th {\n",
       "        vertical-align: top;\n",
       "    }\n",
       "\n",
       "    .dataframe thead th {\n",
       "        text-align: right;\n",
       "    }\n",
       "</style>\n",
       "<table border=\"1\" class=\"dataframe\">\n",
       "  <thead>\n",
       "    <tr style=\"text-align: right;\">\n",
       "      <th></th>\n",
       "      <th>image</th>\n",
       "      <th>xmin</th>\n",
       "      <th>ymix</th>\n",
       "      <th>xmax</th>\n",
       "      <th>ymax</th>\n",
       "      <th>class</th>\n",
       "    </tr>\n",
       "  </thead>\n",
       "  <tbody>\n",
       "    <tr>\n",
       "      <th>0</th>\n",
       "      <td>frontFar/BLR-2018-03-22_17-39-26_2_frontFar/00...</td>\n",
       "      <td>641</td>\n",
       "      <td>431</td>\n",
       "      <td>658</td>\n",
       "      <td>446</td>\n",
       "      <td>car</td>\n",
       "    </tr>\n",
       "    <tr>\n",
       "      <th>1</th>\n",
       "      <td>frontFar/BLR-2018-03-22_17-39-26_2_frontFar/00...</td>\n",
       "      <td>661</td>\n",
       "      <td>397</td>\n",
       "      <td>711</td>\n",
       "      <td>452</td>\n",
       "      <td>bus</td>\n",
       "    </tr>\n",
       "    <tr>\n",
       "      <th>2</th>\n",
       "      <td>frontFar/BLR-2018-03-22_17-39-26_2_frontFar/00...</td>\n",
       "      <td>593</td>\n",
       "      <td>405</td>\n",
       "      <td>639</td>\n",
       "      <td>466</td>\n",
       "      <td>autorickshaw</td>\n",
       "    </tr>\n",
       "    <tr>\n",
       "      <th>3</th>\n",
       "      <td>frontFar/BLR-2018-03-22_17-39-26_2_frontFar/00...</td>\n",
       "      <td>525</td>\n",
       "      <td>405</td>\n",
       "      <td>560</td>\n",
       "      <td>449</td>\n",
       "      <td>vehicle fallback</td>\n",
       "    </tr>\n",
       "    <tr>\n",
       "      <th>4</th>\n",
       "      <td>frontFar/BLR-2018-03-22_17-39-26_2_frontFar/00...</td>\n",
       "      <td>555</td>\n",
       "      <td>341</td>\n",
       "      <td>680</td>\n",
       "      <td>483</td>\n",
       "      <td>truck</td>\n",
       "    </tr>\n",
       "  </tbody>\n",
       "</table>\n",
       "</div>"
      ],
      "text/plain": [
       "                                               image xmin ymix xmax ymax  \\\n",
       "0  frontFar/BLR-2018-03-22_17-39-26_2_frontFar/00...  641  431  658  446   \n",
       "1  frontFar/BLR-2018-03-22_17-39-26_2_frontFar/00...  661  397  711  452   \n",
       "2  frontFar/BLR-2018-03-22_17-39-26_2_frontFar/00...  593  405  639  466   \n",
       "3  frontFar/BLR-2018-03-22_17-39-26_2_frontFar/00...  525  405  560  449   \n",
       "4  frontFar/BLR-2018-03-22_17-39-26_2_frontFar/00...  555  341  680  483   \n",
       "\n",
       "              class  \n",
       "0               car  \n",
       "1               bus  \n",
       "2      autorickshaw  \n",
       "3  vehicle fallback  \n",
       "4             truck  "
      ]
     },
     "execution_count": 6,
     "metadata": {},
     "output_type": "execute_result"
    }
   ],
   "source": [
    "annotations_train.head()"
   ]
  },
  {
   "cell_type": "code",
   "execution_count": 7,
   "metadata": {},
   "outputs": [
    {
     "data": {
      "text/html": [
       "<div>\n",
       "<style scoped>\n",
       "    .dataframe tbody tr th:only-of-type {\n",
       "        vertical-align: middle;\n",
       "    }\n",
       "\n",
       "    .dataframe tbody tr th {\n",
       "        vertical-align: top;\n",
       "    }\n",
       "\n",
       "    .dataframe thead th {\n",
       "        text-align: right;\n",
       "    }\n",
       "</style>\n",
       "<table border=\"1\" class=\"dataframe\">\n",
       "  <thead>\n",
       "    <tr style=\"text-align: right;\">\n",
       "      <th></th>\n",
       "      <th>image</th>\n",
       "      <th>xmin</th>\n",
       "      <th>ymix</th>\n",
       "      <th>xmax</th>\n",
       "      <th>ymax</th>\n",
       "      <th>class</th>\n",
       "    </tr>\n",
       "  </thead>\n",
       "  <tbody>\n",
       "    <tr>\n",
       "      <th>0</th>\n",
       "      <td>frontFar/BLR-2018-04-16_16-14-27_frontFar/0006...</td>\n",
       "      <td>401</td>\n",
       "      <td>392</td>\n",
       "      <td>619</td>\n",
       "      <td>488</td>\n",
       "      <td>truck</td>\n",
       "    </tr>\n",
       "    <tr>\n",
       "      <th>1</th>\n",
       "      <td>frontFar/BLR-2018-04-16_16-14-27_frontFar/0006...</td>\n",
       "      <td>638</td>\n",
       "      <td>381</td>\n",
       "      <td>835</td>\n",
       "      <td>497</td>\n",
       "      <td>truck</td>\n",
       "    </tr>\n",
       "    <tr>\n",
       "      <th>2</th>\n",
       "      <td>frontFar/BLR-2018-04-16_16-14-27_frontFar/0006...</td>\n",
       "      <td>733</td>\n",
       "      <td>379</td>\n",
       "      <td>928</td>\n",
       "      <td>493</td>\n",
       "      <td>truck</td>\n",
       "    </tr>\n",
       "    <tr>\n",
       "      <th>3</th>\n",
       "      <td>frontFar/BLR-2018-04-16_16-14-27_frontFar/0006...</td>\n",
       "      <td>1093</td>\n",
       "      <td>486</td>\n",
       "      <td>1172</td>\n",
       "      <td>707</td>\n",
       "      <td>person</td>\n",
       "    </tr>\n",
       "    <tr>\n",
       "      <th>4</th>\n",
       "      <td>frontFar/BLR-2018-04-16_16-14-27_frontFar/0006...</td>\n",
       "      <td>1101</td>\n",
       "      <td>426</td>\n",
       "      <td>1144</td>\n",
       "      <td>463</td>\n",
       "      <td>motorcycle</td>\n",
       "    </tr>\n",
       "  </tbody>\n",
       "</table>\n",
       "</div>"
      ],
      "text/plain": [
       "                                               image  xmin ymix  xmax ymax  \\\n",
       "0  frontFar/BLR-2018-04-16_16-14-27_frontFar/0006...   401  392   619  488   \n",
       "1  frontFar/BLR-2018-04-16_16-14-27_frontFar/0006...   638  381   835  497   \n",
       "2  frontFar/BLR-2018-04-16_16-14-27_frontFar/0006...   733  379   928  493   \n",
       "3  frontFar/BLR-2018-04-16_16-14-27_frontFar/0006...  1093  486  1172  707   \n",
       "4  frontFar/BLR-2018-04-16_16-14-27_frontFar/0006...  1101  426  1144  463   \n",
       "\n",
       "        class  \n",
       "0       truck  \n",
       "1       truck  \n",
       "2       truck  \n",
       "3      person  \n",
       "4  motorcycle  "
      ]
     },
     "execution_count": 7,
     "metadata": {},
     "output_type": "execute_result"
    }
   ],
   "source": [
    "annotations_val.head()"
   ]
  },
  {
   "cell_type": "code",
   "execution_count": 8,
   "metadata": {},
   "outputs": [],
   "source": [
    "annotations_train.to_csv(\"annotations_train.csv\", index=False)\n",
    "annotations_val.to_csv(\"annotations_val.csv\", index=False)"
   ]
  },
  {
   "cell_type": "code",
   "execution_count": 9,
   "metadata": {},
   "outputs": [
    {
     "data": {
      "text/plain": [
       "array(['car', 'bus', 'autorickshaw', 'vehicle fallback', 'truck',\n",
       "       'motorcycle', 'rider', 'person', 'bicycle', 'animal',\n",
       "       'traffic sign', 'train', 'trailer', 'traffic light', 'caravan'],\n",
       "      dtype=object)"
      ]
     },
     "execution_count": 9,
     "metadata": {},
     "output_type": "execute_result"
    }
   ],
   "source": [
    "cls = annotations_train['class'].unique()\n",
    "cls"
   ]
  },
  {
   "cell_type": "code",
   "execution_count": 10,
   "metadata": {},
   "outputs": [
    {
     "data": {
      "text/html": [
       "<div>\n",
       "<style scoped>\n",
       "    .dataframe tbody tr th:only-of-type {\n",
       "        vertical-align: middle;\n",
       "    }\n",
       "\n",
       "    .dataframe tbody tr th {\n",
       "        vertical-align: top;\n",
       "    }\n",
       "\n",
       "    .dataframe thead th {\n",
       "        text-align: right;\n",
       "    }\n",
       "</style>\n",
       "<table border=\"1\" class=\"dataframe\">\n",
       "  <thead>\n",
       "    <tr style=\"text-align: right;\">\n",
       "      <th></th>\n",
       "      <th>class_name</th>\n",
       "      <th>class_id</th>\n",
       "    </tr>\n",
       "  </thead>\n",
       "  <tbody>\n",
       "    <tr>\n",
       "      <th>0</th>\n",
       "      <td>car</td>\n",
       "      <td>0</td>\n",
       "    </tr>\n",
       "    <tr>\n",
       "      <th>1</th>\n",
       "      <td>bus</td>\n",
       "      <td>1</td>\n",
       "    </tr>\n",
       "    <tr>\n",
       "      <th>2</th>\n",
       "      <td>autorickshaw</td>\n",
       "      <td>2</td>\n",
       "    </tr>\n",
       "    <tr>\n",
       "      <th>3</th>\n",
       "      <td>vehicle fallback</td>\n",
       "      <td>3</td>\n",
       "    </tr>\n",
       "    <tr>\n",
       "      <th>4</th>\n",
       "      <td>truck</td>\n",
       "      <td>4</td>\n",
       "    </tr>\n",
       "  </tbody>\n",
       "</table>\n",
       "</div>"
      ],
      "text/plain": [
       "         class_name  class_id\n",
       "0               car         0\n",
       "1               bus         1\n",
       "2      autorickshaw         2\n",
       "3  vehicle fallback         3\n",
       "4             truck         4"
      ]
     },
     "execution_count": 10,
     "metadata": {},
     "output_type": "execute_result"
    }
   ],
   "source": [
    "class_ = pd.DataFrame(cls, columns=[\"class_name\"])\n",
    "class_['class_id'] = range(0,len(class_))\n",
    "class_.head()"
   ]
  },
  {
   "cell_type": "code",
   "execution_count": 11,
   "metadata": {},
   "outputs": [
    {
     "data": {
      "text/plain": [
       "(15, 2)"
      ]
     },
     "execution_count": 11,
     "metadata": {},
     "output_type": "execute_result"
    }
   ],
   "source": [
    "class_.shape"
   ]
  },
  {
   "cell_type": "code",
   "execution_count": 12,
   "metadata": {},
   "outputs": [],
   "source": [
    "class_.to_csv('../data/class.csv', index=False, header=False)"
   ]
  },
  {
   "cell_type": "code",
   "execution_count": 13,
   "metadata": {},
   "outputs": [
    {
     "data": {
      "text/plain": [
       "{0: 'car',\n",
       " 1: 'bus',\n",
       " 2: 'autorickshaw',\n",
       " 3: 'vehicle fallback',\n",
       " 4: 'truck',\n",
       " 5: 'motorcycle',\n",
       " 6: 'rider',\n",
       " 7: 'person',\n",
       " 8: 'bicycle',\n",
       " 9: 'animal',\n",
       " 10: 'traffic sign',\n",
       " 11: 'train',\n",
       " 12: 'trailer',\n",
       " 13: 'traffic light',\n",
       " 14: 'caravan'}"
      ]
     },
     "execution_count": 13,
     "metadata": {},
     "output_type": "execute_result"
    }
   ],
   "source": [
    "cls_dict = {}\n",
    "for i in range(len(class_)):\n",
    "    cls_dict[class_.iloc[i, 1]] = class_.iloc[i, 0]\n",
    "cls_dict"
   ]
  },
  {
   "cell_type": "code",
   "execution_count": 14,
   "metadata": {},
   "outputs": [
    {
     "data": {
      "text/plain": [
       "dict_values(['car', 'bus', 'autorickshaw', 'vehicle fallback', 'truck', 'motorcycle', 'rider', 'person', 'bicycle', 'animal', 'traffic sign', 'train', 'trailer', 'traffic light', 'caravan'])"
      ]
     },
     "execution_count": 14,
     "metadata": {},
     "output_type": "execute_result"
    }
   ],
   "source": [
    "cls_dict.values()"
   ]
  }
 ],
 "metadata": {
  "kernelspec": {
   "display_name": "Python 3",
   "language": "python",
   "name": "python3"
  },
  "language_info": {
   "codemirror_mode": {
    "name": "ipython",
    "version": 3
   },
   "file_extension": ".py",
   "mimetype": "text/x-python",
   "name": "python",
   "nbconvert_exporter": "python",
   "pygments_lexer": "ipython3",
   "version": "3.6.8"
  }
 },
 "nbformat": 4,
 "nbformat_minor": 2
}
